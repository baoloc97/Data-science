{
  "nbformat": 4,
  "nbformat_minor": 0,
  "metadata": {
    "colab": {
      "name": "Opennmt-khoa.ipynb",
      "provenance": [],
      "collapsed_sections": [],
      "include_colab_link": true
    },
    "kernelspec": {
      "name": "python3",
      "display_name": "Python 3"
    },
    "language_info": {
      "name": "python"
    },
    "accelerator": "GPU"
  },
  "cells": [
    {
      "cell_type": "markdown",
      "metadata": {
        "id": "view-in-github",
        "colab_type": "text"
      },
      "source": [
        "<a href=\"https://colab.research.google.com/github/baoloc97/Data-science/blob/main/OpennmtV1.ipynb\" target=\"_parent\"><img src=\"https://colab.research.google.com/assets/colab-badge.svg\" alt=\"Open In Colab\"/></a>"
      ]
    },
    {
      "cell_type": "markdown",
      "metadata": {
        "id": "JmvgMNfTDA6j"
      },
      "source": [
        "# check ram GPU\n",
        "\n",
        "+ Truoc tien phai cap phat gpu free ma google cho da\n",
        "+ sau do thi kiem tra"
      ]
    },
    {
      "cell_type": "code",
      "metadata": {
        "id": "vegVY8H7Cr8V"
      },
      "source": [
        "!ln -sf /opt/bin/nvidia-smi /usr/bin/nvidia-smi\n",
        "!pip install gputil\n",
        "!pip install psutil\n",
        "!pip install humanize\n",
        "\n",
        "import psutil\n",
        "import humanize\n",
        "import os\n",
        "import GPUtil as GPU\n",
        "GPUs = GPU.getGPUs()\n",
        "\n",
        "# XXX: only one GPU on Colab and isn’t guaranteed\n",
        "gpu = GPUs[0]\n",
        "def printm():\n",
        "  process = psutil.Process(os.getpid())\n",
        "  print(\"Gen RAM Free: \" + humanize.naturalsize( psutil.virtual_memory().available ), \" | Proc size: \" + humanize.naturalsize( process.memory_info().rss))\n",
        "  print(\"GPU RAM Free: {0:.0f}MB | Used: {1:.0f}MB | Util {2:3.0f}% | Total {3:.0f}MB\".format(gpu.memoryFree, gpu.memoryUsed, gpu.memoryUtil*100, gpu.memoryTotal))\n",
        "\n",
        "printm()"
      ],
      "execution_count": null,
      "outputs": []
    },
    {
      "cell_type": "markdown",
      "metadata": {
        "id": "PqdB1NW-iTyy"
      },
      "source": [
        "# clone git\n",
        "+ clone git\n",
        "+ cd vao project\n"
      ]
    },
    {
      "cell_type": "code",
      "metadata": {
        "colab": {
          "base_uri": "https://localhost:8080/"
        },
        "id": "D8QliO3eAOLI",
        "outputId": "bf6c4e14-2790-4a4c-c124-b5e37aeea58a"
      },
      "source": [
        "!git clone https://github.com/OpenNMT/OpenNMT-py"
      ],
      "execution_count": 1,
      "outputs": [
        {
          "output_type": "stream",
          "text": [
            "Cloning into 'OpenNMT-py'...\n",
            "remote: Enumerating objects: 17381, done.\u001b[K\n",
            "remote: Counting objects: 100% (340/340), done.\u001b[K\n",
            "remote: Compressing objects: 100% (157/157), done.\u001b[K\n",
            "remote: Total 17381 (delta 194), reused 305 (delta 180), pack-reused 17041\u001b[K\n",
            "Receiving objects: 100% (17381/17381), 273.63 MiB | 27.16 MiB/s, done.\n",
            "Resolving deltas: 100% (12502/12502), done.\n"
          ],
          "name": "stdout"
        }
      ]
    },
    {
      "cell_type": "code",
      "metadata": {
        "colab": {
          "base_uri": "https://localhost:8080/"
        },
        "id": "3EbD9ExVD1b4",
        "outputId": "3dafb5c0-00a3-4d05-fdca-0c3c8e72dd51"
      },
      "source": [
        "! ls"
      ],
      "execution_count": null,
      "outputs": [
        {
          "output_type": "stream",
          "text": [
            "open-NMT-test  sample_data\n"
          ],
          "name": "stdout"
        }
      ]
    },
    {
      "cell_type": "code",
      "metadata": {
        "colab": {
          "base_uri": "https://localhost:8080/"
        },
        "id": "FB0zNsx0BGzr",
        "outputId": "86e8ec0e-b3c7-4c83-d68d-87779011f847"
      },
      "source": [
        "cd open-NMT-test"
      ],
      "execution_count": null,
      "outputs": [
        {
          "output_type": "stream",
          "text": [
            "/content/open-NMT-test\n"
          ],
          "name": "stdout"
        }
      ]
    },
    {
      "cell_type": "code",
      "metadata": {
        "id": "JhFFQmkk1qd-"
      },
      "source": [
        "! pip install -e ."
      ],
      "execution_count": null,
      "outputs": []
    },
    {
      "cell_type": "markdown",
      "metadata": {
        "id": "okMgYcwfBFys"
      },
      "source": [
        "# tokenize\n",
        "+ nho doi ten thu muc tokenize -> mot cai ten khac la dc \n",
        "+ nhung nen doi thanh tokenizess\n",
        "+ Tokenize theo sentenpiece\n",
        "\n"
      ]
    },
    {
      "cell_type": "code",
      "metadata": {
        "id": "9E5U-SH8pZ-a"
      },
      "source": [
        "!pip install sentencepiece\n",
        "!pip install sklearn"
      ],
      "execution_count": null,
      "outputs": []
    },
    {
      "cell_type": "code",
      "metadata": {
        "colab": {
          "base_uri": "https://localhost:8080/"
        },
        "id": "bJ5e-W5EBYt7",
        "outputId": "14ec8d96-1ed5-45af-e029-0a8881fd943f"
      },
      "source": [
        "! ls tokenizess\n"
      ],
      "execution_count": null,
      "outputs": [
        {
          "output_type": "stream",
          "text": [
            "tokenize.py  tokenizess.py\n"
          ],
          "name": "stdout"
        }
      ]
    },
    {
      "cell_type": "code",
      "metadata": {
        "colab": {
          "base_uri": "https://localhost:8080/"
        },
        "id": "dIwlVWZFvhCc",
        "outputId": "073143a6-d862-407a-d2bf-c66268674d06"
      },
      "source": [
        "! python3 tokenizess/tokenizess.py"
      ],
      "execution_count": null,
      "outputs": [
        {
          "output_type": "stream",
          "text": [
            "38847\n",
            "38847\n"
          ],
          "name": "stdout"
        }
      ]
    },
    {
      "cell_type": "markdown",
      "metadata": {
        "id": "3Itk9Ggq0h81"
      },
      "source": [
        "# Build voc \n",
        "+ Sau khi build voc chúng ta sẽ có số lượng voc cho tgt and src \n",
        "+ Sau đó sẽ vô config của train model sửa lại cho phù hợp "
      ]
    },
    {
      "cell_type": "code",
      "metadata": {
        "id": "JmIaAmYf0gcD"
      },
      "source": [
        "! python build_vocab.py -config config/config_build_vocab.yaml"
      ],
      "execution_count": null,
      "outputs": []
    },
    {
      "cell_type": "code",
      "metadata": {
        "id": "cxO9d_1KQzI6"
      },
      "source": [
        "! git status"
      ],
      "execution_count": null,
      "outputs": []
    },
    {
      "cell_type": "markdown",
      "metadata": {
        "id": "dMJl7QRn8hTp"
      },
      "source": [
        "# Train model \n",
        "+ luu y nho chinh config cho dung"
      ]
    },
    {
      "cell_type": "code",
      "metadata": {
        "id": "RKN-KQ0C8hG8"
      },
      "source": [
        "! python train.py -config config/config_train_model.yaml "
      ],
      "execution_count": null,
      "outputs": []
    },
    {
      "cell_type": "code",
      "metadata": {
        "id": "t7y6t4WvtTnk"
      },
      "source": [
        "! python train.py -config config/config_train_model.yaml -train_from model/model_test_v2_step_1001.pt"
      ],
      "execution_count": null,
      "outputs": []
    },
    {
      "cell_type": "code",
      "metadata": {
        "id": "nIZXWNX9nys-"
      },
      "source": [
        "!python translate.py -config config/config_train_model.yaml"
      ],
      "execution_count": null,
      "outputs": []
    },
    {
      "cell_type": "markdown",
      "metadata": {
        "id": "HI3CaP8oz726"
      },
      "source": [
        "# Translate \n"
      ]
    },
    {
      "cell_type": "code",
      "metadata": {
        "id": "NzwIQU4qz7WS"
      },
      "source": [
        "!python translate.py -config config/config_translate.yaml"
      ],
      "execution_count": null,
      "outputs": []
    },
    {
      "cell_type": "code",
      "metadata": {
        "id": "lILc9j4PYK1W"
      },
      "source": [
        ""
      ],
      "execution_count": null,
      "outputs": []
    },
    {
      "cell_type": "markdown",
      "metadata": {
        "id": "hKaE6DT-1un1"
      },
      "source": [
        "# ngoai le ti xieu "
      ]
    },
    {
      "cell_type": "code",
      "metadata": {
        "id": "ntaE5Ov61wnD"
      },
      "source": [
        ""
      ],
      "execution_count": null,
      "outputs": []
    }
  ]
}