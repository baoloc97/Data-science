{
  "nbformat": 4,
  "nbformat_minor": 0,
  "metadata": {
    "colab": {
      "name": "Untitled3.ipynb",
      "provenance": [],
      "collapsed_sections": [],
      "authorship_tag": "ABX9TyObu4ieATYG3zzOCOuYzTe4",
      "include_colab_link": true
    },
    "kernelspec": {
      "name": "python3",
      "display_name": "Python 3"
    },
    "language_info": {
      "name": "python"
    }
  },
  "cells": [
    {
      "cell_type": "markdown",
      "metadata": {
        "id": "view-in-github",
        "colab_type": "text"
      },
      "source": [
        "<a href=\"https://colab.research.google.com/github/baoloc97/Data-science/blob/main/Untitled3.ipynb\" target=\"_parent\"><img src=\"https://colab.research.google.com/assets/colab-badge.svg\" alt=\"Open In Colab\"/></a>"
      ]
    },
    {
      "cell_type": "code",
      "metadata": {
        "id": "GxDrHL1vpiWL"
      },
      "source": [
        "!unzip dog..zip -d 'train/dogs/'"
      ],
      "execution_count": null,
      "outputs": []
    },
    {
      "cell_type": "code",
      "metadata": {
        "id": "cnQu9qjMricG"
      },
      "source": [
        "import numpy as np \n",
        "import cv2\n",
        "import os\n",
        "import random\n",
        "import matplotlib.pyplot as plt \n",
        "import pickle\n"
      ],
      "execution_count": 26,
      "outputs": []
    },
    {
      "cell_type": "code",
      "metadata": {
        "id": "1AVYIdBgsHEe"
      },
      "source": [
        "DIRECTORY = r'train'\n",
        "CATEGORIES =  ['cats','dogs']\n"
      ],
      "execution_count": 28,
      "outputs": []
    },
    {
      "cell_type": "code",
      "metadata": {
        "id": "V7aKqq3DFSlk"
      },
      "source": [
        "IMG_SIZE = 224\n",
        "data = []\n",
        "\n",
        "for category in CATEGORIES:\n",
        "    path = os.path.join(DIRECTORY, category)\n",
        "    for img in os.listdir(path):\n",
        "        img_path = os.path.join(path, img)\n",
        "        label = CATEGORIES.index(category)\n",
        "        arr = cv2.imread(img_path, cv2.IMREAD_GRAYSCALE)\n",
        "        new_arr = cv2.resize(arr, (60, 60))\n",
        "        data.append([new_arr, label])"
      ],
      "execution_count": 29,
      "outputs": []
    },
    {
      "cell_type": "code",
      "metadata": {
        "id": "MJxkLmM8wQtv"
      },
      "source": [
        "random.shuffle(data)"
      ],
      "execution_count": 30,
      "outputs": []
    },
    {
      "cell_type": "code",
      "metadata": {
        "colab": {
          "base_uri": "https://localhost:8080/"
        },
        "id": "MB6tlYWJwlG2",
        "outputId": "6173150e-c533-4ff6-8972-12c37f687724"
      },
      "source": [
        "X = []\n",
        "y = []\n",
        "for features, labels in data:\n",
        "\tX.append(features)\n",
        "\ty.append(labels)\n",
        "\n",
        "X = np.array(X)\n",
        "y = np.array(y)\n",
        "\n",
        "print(X[0])"
      ],
      "execution_count": 31,
      "outputs": [
        {
          "output_type": "stream",
          "text": [
            "[[ 16  13  15 ... 149 149 148]\n",
            " [ 17  17  17 ... 151 149 149]\n",
            " [ 16  17  15 ... 151 150 149]\n",
            " ...\n",
            " [ 92  80  87 ...  17  24   8]\n",
            " [109 102 108 ...   4   6   8]\n",
            " [114 119 124 ...  11  11  13]]\n"
          ],
          "name": "stdout"
        }
      ]
    },
    {
      "cell_type": "code",
      "metadata": {
        "id": "N2C-Ctg74mfb"
      },
      "source": [
        "pickle.dump(X,open('X.pkl','wb'))\n",
        "pickle.dump(y,open('y.pkl','wb'))"
      ],
      "execution_count": 32,
      "outputs": []
    },
    {
      "cell_type": "code",
      "metadata": {
        "id": "Wb21egzPwuEF"
      },
      "source": [
        "import pickle\n",
        "import tensorflow\n",
        "from tensorflow.keras import models\n",
        "from tensorflow.keras.models import Sequential\n",
        "from tensorflow.keras.layers import Conv2D,MaxPool2D,Flatten,Dense\n",
        "from tensorflow.keras.callbacks import TensorBoard\n",
        "import keras.losses\n",
        "keras.losses.custom_loss = 'spare_categorical_crossentrop'\n",
        "X = pickle.load(open('X.pkl','rb'))\n",
        "y = pickle.load(open('y.pkl','rb'))\n",
        "\n"
      ],
      "execution_count": 33,
      "outputs": []
    },
    {
      "cell_type": "code",
      "metadata": {
        "id": "9xiJSvzEz_Bp"
      },
      "source": [
        "X = X/255\n"
      ],
      "execution_count": 34,
      "outputs": []
    },
    {
      "cell_type": "code",
      "metadata": {
        "id": "_mGzjUGl36US"
      },
      "source": [
        "#y = np.asarray(y).astype('float32').reshape((1,-1))"
      ],
      "execution_count": 10,
      "outputs": []
    },
    {
      "cell_type": "code",
      "metadata": {
        "colab": {
          "base_uri": "https://localhost:8080/"
        },
        "id": "69qTzdQZ3w4o",
        "outputId": "f089fe9e-9dd6-4fa1-b25f-8a17f56b386f"
      },
      "source": [
        "print(X.shape)\n",
        "print(y.shape)"
      ],
      "execution_count": 37,
      "outputs": [
        {
          "output_type": "stream",
          "text": [
            "(2001, 60, 60, 1)\n",
            "(2001,)\n"
          ],
          "name": "stdout"
        }
      ]
    },
    {
      "cell_type": "code",
      "metadata": {
        "id": "mefLQjENGfi2"
      },
      "source": [
        "X = X.reshape(-1, 60, 60, 1)"
      ],
      "execution_count": 36,
      "outputs": []
    },
    {
      "cell_type": "code",
      "metadata": {
        "id": "mE55FItHGvF6"
      },
      "source": [
        "model = Sequential()\n",
        "\n",
        "model.add(Conv2D(64, (3,3), activation = 'relu'))\n",
        "model.add(MaxPool2D((2,2)))\n",
        "\n",
        "model.add(Conv2D(64, (3,3), activation = 'relu'))\n",
        "model.add(MaxPool2D((2,2)))\n",
        "\n",
        "model.add(Flatten())\n",
        "\n",
        "model.add(Dense(128, input_shape = X.shape[1:], activation = 'relu'))\n",
        "\n",
        "model.add(Dense(2, activation = 'softmax'))"
      ],
      "execution_count": 38,
      "outputs": []
    },
    {
      "cell_type": "code",
      "metadata": {
        "id": "WJ3yOnWxG8N7"
      },
      "source": [
        "model.compile(optimizer='adam',\n",
        "              loss='sparse_categorical_crossentropy',\n",
        "              metrics=['accuracy'])"
      ],
      "execution_count": 39,
      "outputs": []
    },
    {
      "cell_type": "code",
      "metadata": {
        "colab": {
          "base_uri": "https://localhost:8080/"
        },
        "id": "5jeFJvnIHBmf",
        "outputId": "730eb8f6-7cac-473a-a7d2-565f44b5d083"
      },
      "source": [
        "model.fit(X, y, epochs=3, validation_split=0.2,batch_size=32,drop)"
      ],
      "execution_count": 42,
      "outputs": [
        {
          "output_type": "stream",
          "text": [
            "Epoch 1/3\n",
            "57/57 [==============================] - 15s 261ms/step - loss: 0.3979 - accuracy: 0.8172 - val_loss: 0.8231 - val_accuracy: 0.6468\n",
            "Epoch 2/3\n",
            "57/57 [==============================] - 14s 254ms/step - loss: 0.3247 - accuracy: 0.8606 - val_loss: 0.8557 - val_accuracy: 0.6617\n",
            "Epoch 3/3\n",
            "57/57 [==============================] - 14s 253ms/step - loss: 0.2585 - accuracy: 0.8972 - val_loss: 0.8726 - val_accuracy: 0.6468\n"
          ],
          "name": "stdout"
        },
        {
          "output_type": "execute_result",
          "data": {
            "text/plain": [
              "<tensorflow.python.keras.callbacks.History at 0x7f63960031d0>"
            ]
          },
          "metadata": {
            "tags": []
          },
          "execution_count": 42
        }
      ]
    },
    {
      "cell_type": "code",
      "metadata": {
        "id": "DA8bb-E9mEhn"
      },
      "source": [
        "import time\n",
        "\n",
        "time.time()"
      ],
      "execution_count": null,
      "outputs": []
    },
    {
      "cell_type": "code",
      "metadata": {
        "colab": {
          "base_uri": "https://localhost:8080/"
        },
        "id": "W1fwlVs2n2S8",
        "outputId": "cfcc9d48-ccf3-4c30-9a48-7b7f67af2cfb"
      },
      "source": [
        "model.save('3x3x64-catvsdog.model')"
      ],
      "execution_count": 43,
      "outputs": [
        {
          "output_type": "stream",
          "text": [
            "INFO:tensorflow:Assets written to: 3x3x64-catvsdog.model/assets\n"
          ],
          "name": "stdout"
        }
      ]
    },
    {
      "cell_type": "code",
      "metadata": {
        "id": "7BPqvaZZoH41"
      },
      "source": [
        "!unzip dogtest.zip -d 'test/dogs/'"
      ],
      "execution_count": null,
      "outputs": []
    },
    {
      "cell_type": "code",
      "metadata": {
        "id": "vjLIMWVmoZqH"
      },
      "source": [
        "!unzip cattest.zip -d 'test/cats/'"
      ],
      "execution_count": null,
      "outputs": []
    },
    {
      "cell_type": "code",
      "metadata": {
        "id": "g9UNAWcgoo02"
      },
      "source": [
        "# mình làm predict ở đây nha\n",
        "import cv2\n",
        "import keras\n",
        "import numpy as np\n",
        "from keras.preprocessing import image\n",
        "from os import listdir\n",
        "from os.path import isfile, join\n",
        "\n",
        "\n",
        "CATEGORIES = ['cats', 'dogs']\n",
        "\n",
        "\n",
        "def image(path):\n",
        "    img = cv2.imread(path, cv2.IMREAD_GRAYSCALE)\n",
        "    new_arr = cv2.resize(img, (60, 60))\n",
        "    new_arr = np.array(new_arr)\n",
        "    new_arr = new_arr.reshape(-1, 60, 60, 1)\n",
        "    return new_arr\n",
        "\n",
        "model = keras.models.load_model('3x3x64-catvsdog.model')\n",
        "\n"
      ],
      "execution_count": 51,
      "outputs": []
    },
    {
      "cell_type": "code",
      "metadata": {
        "colab": {
          "base_uri": "https://localhost:8080/"
        },
        "id": "i_oND-WXpBNX",
        "outputId": "1b724257-8c51-4cca-ed6f-12a55328f2b1"
      },
      "source": [
        "\n",
        "prediction = model.predict([image('test/predict/1.jpg')])\n",
        "print(CATEGORIES[prediction.argmax()])"
      ],
      "execution_count": 48,
      "outputs": [
        {
          "output_type": "stream",
          "text": [
            "dogs\n"
          ],
          "name": "stdout"
        }
      ]
    },
    {
      "cell_type": "code",
      "metadata": {
        "colab": {
          "base_uri": "https://localhost:8080/"
        },
        "id": "oxHVWHDgqqXF",
        "outputId": "9a1c64be-e635-43a2-f5e0-3002955213e6"
      },
      "source": [
        "mypath = \"test/predict/\"\n",
        "onlyfiles = [f for f in listdir(mypath) if isfile(join(mypath, f))]\n",
        "print(onlyfiles)\n",
        "for img in onlyfiles:\n",
        "  link = join(mypath,img)\n",
        "  prediction = model.predict([image(link)])\n",
        "  print(CATEGORIES[prediction.argmax()])"
      ],
      "execution_count": 54,
      "outputs": [
        {
          "output_type": "stream",
          "text": [
            "['4.jpg', '3.jpg', '6.jpg', '2.jpg', '1.jpg', '5.jpg']\n",
            "dogs\n",
            "dogs\n",
            "cats\n",
            "dogs\n",
            "dogs\n",
            "dogs\n"
          ],
          "name": "stdout"
        }
      ]
    },
    {
      "cell_type": "markdown",
      "metadata": {
        "id": "LerhOYTwqBmz"
      },
      "source": [
        ""
      ]
    }
  ]
}