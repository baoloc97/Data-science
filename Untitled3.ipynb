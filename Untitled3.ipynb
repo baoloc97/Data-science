{
  "nbformat": 4,
  "nbformat_minor": 0,
  "metadata": {
    "colab": {
      "name": "Untitled3.ipynb",
      "provenance": [],
      "collapsed_sections": [],
      "authorship_tag": "ABX9TyMis7BCnAK5gsUubvxo2ntx",
      "include_colab_link": true
    },
    "kernelspec": {
      "name": "python3",
      "display_name": "Python 3"
    },
    "language_info": {
      "name": "python"
    }
  },
  "cells": [
    {
      "cell_type": "markdown",
      "metadata": {
        "id": "view-in-github",
        "colab_type": "text"
      },
      "source": [
        "<a href=\"https://colab.research.google.com/github/baoloc97/Data-science/blob/main/Untitled3.ipynb\" target=\"_parent\"><img src=\"https://colab.research.google.com/assets/colab-badge.svg\" alt=\"Open In Colab\"/></a>"
      ]
    },
    {
      "cell_type": "code",
      "metadata": {
        "id": "GxDrHL1vpiWL"
      },
      "source": [
        "!unzip dog..zip -d 'train/dogs/'"
      ],
      "execution_count": null,
      "outputs": []
    },
    {
      "cell_type": "code",
      "metadata": {
        "id": "cnQu9qjMricG"
      },
      "source": [
        "import numpy as np \n",
        "import cv2\n",
        "import os\n",
        "import random\n",
        "import matplotlib.pyplot as plt \n",
        "import pickle\n"
      ],
      "execution_count": 1,
      "outputs": []
    },
    {
      "cell_type": "code",
      "metadata": {
        "id": "1AVYIdBgsHEe"
      },
      "source": [
        "DIRECTORY = r'train'\n",
        "CATEGORIES =  ['cats','dogs']\n"
      ],
      "execution_count": 2,
      "outputs": []
    },
    {
      "cell_type": "code",
      "metadata": {
        "id": "V7aKqq3DFSlk"
      },
      "source": [
        "IMG_SIZE = 224\n",
        "data = []\n",
        "\n",
        "for category in CATEGORIES:\n",
        "    path = os.path.join(DIRECTORY, category)\n",
        "    for img in os.listdir(path):\n",
        "        img_path = os.path.join(path, img)\n",
        "        label = CATEGORIES.index(category)\n",
        "        arr = cv2.imread(img_path, cv2.IMREAD_GRAYSCALE)\n",
        "        new_arr = cv2.resize(arr, (60, 60))\n",
        "        data.append([new_arr, label])"
      ],
      "execution_count": 3,
      "outputs": []
    },
    {
      "cell_type": "code",
      "metadata": {
        "id": "MJxkLmM8wQtv"
      },
      "source": [
        "random.shuffle(data)"
      ],
      "execution_count": 4,
      "outputs": []
    },
    {
      "cell_type": "code",
      "metadata": {
        "colab": {
          "base_uri": "https://localhost:8080/"
        },
        "id": "MB6tlYWJwlG2",
        "outputId": "7bff46e9-4262-43ea-db0f-a81b1d72aca9"
      },
      "source": [
        "X = []\n",
        "y = []\n",
        "for features, labels in data:\n",
        "\tX.append(features)\n",
        "\ty.append(labels)\n",
        "\n",
        "X = np.array(X)\n",
        "y = np.array(y)\n",
        "\n",
        "print(X[0])"
      ],
      "execution_count": 5,
      "outputs": [
        {
          "output_type": "stream",
          "text": [
            "[[180 173 185 ... 246 246 246]\n",
            " [193 173 189 ... 245 243 243]\n",
            " [197 182 194 ... 246 247 244]\n",
            " ...\n",
            " [188 196 206 ... 207 248 225]\n",
            " [244 225 231 ... 240 244 206]\n",
            " [250 249 249 ... 247 215 209]]\n"
          ],
          "name": "stdout"
        }
      ]
    },
    {
      "cell_type": "code",
      "metadata": {
        "id": "N2C-Ctg74mfb"
      },
      "source": [
        "pickle.dump(X,open('X.pkl','wb'))\n",
        "pickle.dump(y,open('y.pkl','wb'))"
      ],
      "execution_count": 6,
      "outputs": []
    },
    {
      "cell_type": "code",
      "metadata": {
        "id": "Wb21egzPwuEF"
      },
      "source": [
        "import pickle\n",
        "import tensorflow\n",
        "from tensorflow.keras import models\n",
        "from tensorflow.keras.models import Sequential\n",
        "from tensorflow.keras.layers import Conv2D,MaxPool2D,Flatten,Dense\n",
        "from tensorflow.keras.callbacks import TensorBoard\n",
        "import keras.losses\n",
        "keras.losses.custom_loss = 'spare_categorical_crossentrop'\n",
        "X = pickle.load(open('X.pkl','rb'))\n",
        "y = pickle.load(open('y.pkl','rb'))\n",
        "\n"
      ],
      "execution_count": 7,
      "outputs": []
    },
    {
      "cell_type": "code",
      "metadata": {
        "id": "9xiJSvzEz_Bp"
      },
      "source": [
        "X = X/255\n"
      ],
      "execution_count": 8,
      "outputs": []
    },
    {
      "cell_type": "code",
      "metadata": {
        "id": "_mGzjUGl36US"
      },
      "source": [
        "#y = np.asarray(y).astype('float32').reshape((1,-1))"
      ],
      "execution_count": 10,
      "outputs": []
    },
    {
      "cell_type": "code",
      "metadata": {
        "colab": {
          "base_uri": "https://localhost:8080/"
        },
        "id": "69qTzdQZ3w4o",
        "outputId": "becf8b16-df88-4727-9049-0d89712d71b6"
      },
      "source": [
        "print(X.shape)\n",
        "print(y.shape)"
      ],
      "execution_count": 11,
      "outputs": [
        {
          "output_type": "stream",
          "text": [
            "(2001, 60, 60, 1)\n",
            "(2001,)\n"
          ],
          "name": "stdout"
        }
      ]
    },
    {
      "cell_type": "code",
      "metadata": {
        "id": "mefLQjENGfi2"
      },
      "source": [
        "X = X.reshape(-1, 60, 60, 1)"
      ],
      "execution_count": 10,
      "outputs": []
    },
    {
      "cell_type": "code",
      "metadata": {
        "id": "mE55FItHGvF6"
      },
      "source": [
        "model = Sequential()\n",
        "\n",
        "model.add(Conv2D(64, (3,3), activation = 'relu'))\n",
        "model.add(MaxPool2D((2,2)))\n",
        "\n",
        "model.add(Conv2D(64, (3,3), activation = 'relu'))\n",
        "model.add(MaxPool2D((2,2)))\n",
        "\n",
        "model.add(Flatten())\n",
        "\n",
        "model.add(Dense(128, input_shape = X.shape[1:], activation = 'relu'))\n",
        "\n",
        "model.add(Dense(2, activation = 'softmax'))"
      ],
      "execution_count": 12,
      "outputs": []
    },
    {
      "cell_type": "code",
      "metadata": {
        "id": "WJ3yOnWxG8N7"
      },
      "source": [
        "model.compile(optimizer='adam',\n",
        "              loss='sparse_categorical_crossentropy',\n",
        "              metrics=['accuracy'])"
      ],
      "execution_count": 78,
      "outputs": []
    },
    {
      "cell_type": "code",
      "metadata": {
        "colab": {
          "base_uri": "https://localhost:8080/",
          "height": 296
        },
        "id": "5jeFJvnIHBmf",
        "outputId": "9446adb1-ab1d-4ed0-96ef-537897a50f7f"
      },
      "source": [
        "model.fit(X, y, epochs=1, validation_split=0.2,batch_size=32)"
      ],
      "execution_count": 84,
      "outputs": [
        {
          "output_type": "error",
          "ename": "TypeError",
          "evalue": "ignored",
          "traceback": [
            "\u001b[0;31m---------------------------------------------------------------------------\u001b[0m",
            "\u001b[0;31mTypeError\u001b[0m                                 Traceback (most recent call last)",
            "\u001b[0;32m<ipython-input-84-4a658930d7c0>\u001b[0m in \u001b[0;36m<module>\u001b[0;34m()\u001b[0m\n\u001b[0;32m----> 1\u001b[0;31m \u001b[0mmodel\u001b[0m\u001b[0;34m.\u001b[0m\u001b[0mfit\u001b[0m\u001b[0;34m(\u001b[0m\u001b[0mX\u001b[0m\u001b[0;34m,\u001b[0m \u001b[0my\u001b[0m\u001b[0;34m,\u001b[0m \u001b[0mepochs\u001b[0m\u001b[0;34m=\u001b[0m\u001b[0;36m1\u001b[0m\u001b[0;34m,\u001b[0m \u001b[0mvalidation_split\u001b[0m\u001b[0;34m=\u001b[0m\u001b[0;36m0.2\u001b[0m\u001b[0;34m,\u001b[0m\u001b[0mbatch_size\u001b[0m\u001b[0;34m=\u001b[0m\u001b[0;36m32\u001b[0m\u001b[0;34m,\u001b[0m\u001b[0mcallbacks\u001b[0m\u001b[0;34m=\u001b[0m\u001b[0mTensorBoard\u001b[0m\u001b[0;34m)\u001b[0m\u001b[0;34m\u001b[0m\u001b[0;34m\u001b[0m\u001b[0m\n\u001b[0m",
            "\u001b[0;32m/usr/local/lib/python3.7/dist-packages/keras/engine/training.py\u001b[0m in \u001b[0;36mfit\u001b[0;34m(self, x, y, batch_size, epochs, verbose, callbacks, validation_split, validation_data, shuffle, class_weight, sample_weight, initial_epoch, steps_per_epoch, validation_steps, validation_batch_size, validation_freq, max_queue_size, workers, use_multiprocessing)\u001b[0m\n\u001b[1;32m   1131\u001b[0m             \u001b[0mverbose\u001b[0m\u001b[0;34m=\u001b[0m\u001b[0mverbose\u001b[0m\u001b[0;34m,\u001b[0m\u001b[0;34m\u001b[0m\u001b[0;34m\u001b[0m\u001b[0m\n\u001b[1;32m   1132\u001b[0m             \u001b[0mepochs\u001b[0m\u001b[0;34m=\u001b[0m\u001b[0mepochs\u001b[0m\u001b[0;34m,\u001b[0m\u001b[0;34m\u001b[0m\u001b[0;34m\u001b[0m\u001b[0m\n\u001b[0;32m-> 1133\u001b[0;31m             steps=data_handler.inferred_steps)\n\u001b[0m\u001b[1;32m   1134\u001b[0m \u001b[0;34m\u001b[0m\u001b[0m\n\u001b[1;32m   1135\u001b[0m       \u001b[0mself\u001b[0m\u001b[0;34m.\u001b[0m\u001b[0mstop_training\u001b[0m \u001b[0;34m=\u001b[0m \u001b[0;32mFalse\u001b[0m\u001b[0;34m\u001b[0m\u001b[0;34m\u001b[0m\u001b[0m\n",
            "\u001b[0;32m/usr/local/lib/python3.7/dist-packages/keras/callbacks.py\u001b[0m in \u001b[0;36m__init__\u001b[0;34m(self, callbacks, add_history, add_progbar, model, **params)\u001b[0m\n\u001b[1;32m    209\u001b[0m \u001b[0;34m\u001b[0m\u001b[0m\n\u001b[1;32m    210\u001b[0m     \u001b[0;32mif\u001b[0m \u001b[0mmodel\u001b[0m\u001b[0;34m:\u001b[0m\u001b[0;34m\u001b[0m\u001b[0;34m\u001b[0m\u001b[0m\n\u001b[0;32m--> 211\u001b[0;31m       \u001b[0mself\u001b[0m\u001b[0;34m.\u001b[0m\u001b[0mset_model\u001b[0m\u001b[0;34m(\u001b[0m\u001b[0mmodel\u001b[0m\u001b[0;34m)\u001b[0m\u001b[0;34m\u001b[0m\u001b[0;34m\u001b[0m\u001b[0m\n\u001b[0m\u001b[1;32m    212\u001b[0m     \u001b[0;32mif\u001b[0m \u001b[0mparams\u001b[0m\u001b[0;34m:\u001b[0m\u001b[0;34m\u001b[0m\u001b[0;34m\u001b[0m\u001b[0m\n\u001b[1;32m    213\u001b[0m       \u001b[0mself\u001b[0m\u001b[0;34m.\u001b[0m\u001b[0mset_params\u001b[0m\u001b[0;34m(\u001b[0m\u001b[0mparams\u001b[0m\u001b[0;34m)\u001b[0m\u001b[0;34m\u001b[0m\u001b[0;34m\u001b[0m\u001b[0m\n",
            "\u001b[0;32m/usr/local/lib/python3.7/dist-packages/keras/callbacks.py\u001b[0m in \u001b[0;36mset_model\u001b[0;34m(self, model)\u001b[0m\n\u001b[1;32m    266\u001b[0m       \u001b[0mmodel\u001b[0m\u001b[0;34m.\u001b[0m\u001b[0mhistory\u001b[0m \u001b[0;34m=\u001b[0m \u001b[0mself\u001b[0m\u001b[0;34m.\u001b[0m\u001b[0m_history\u001b[0m\u001b[0;34m\u001b[0m\u001b[0;34m\u001b[0m\u001b[0m\n\u001b[1;32m    267\u001b[0m     \u001b[0;32mfor\u001b[0m \u001b[0mcallback\u001b[0m \u001b[0;32min\u001b[0m \u001b[0mself\u001b[0m\u001b[0;34m.\u001b[0m\u001b[0mcallbacks\u001b[0m\u001b[0;34m:\u001b[0m\u001b[0;34m\u001b[0m\u001b[0;34m\u001b[0m\u001b[0m\n\u001b[0;32m--> 268\u001b[0;31m       \u001b[0mcallback\u001b[0m\u001b[0;34m.\u001b[0m\u001b[0mset_model\u001b[0m\u001b[0;34m(\u001b[0m\u001b[0mmodel\u001b[0m\u001b[0;34m)\u001b[0m\u001b[0;34m\u001b[0m\u001b[0;34m\u001b[0m\u001b[0m\n\u001b[0m\u001b[1;32m    269\u001b[0m \u001b[0;34m\u001b[0m\u001b[0m\n\u001b[1;32m    270\u001b[0m   \u001b[0;32mdef\u001b[0m \u001b[0m_call_batch_hook\u001b[0m\u001b[0;34m(\u001b[0m\u001b[0mself\u001b[0m\u001b[0;34m,\u001b[0m \u001b[0mmode\u001b[0m\u001b[0;34m,\u001b[0m \u001b[0mhook\u001b[0m\u001b[0;34m,\u001b[0m \u001b[0mbatch\u001b[0m\u001b[0;34m,\u001b[0m \u001b[0mlogs\u001b[0m\u001b[0;34m=\u001b[0m\u001b[0;32mNone\u001b[0m\u001b[0;34m)\u001b[0m\u001b[0;34m:\u001b[0m\u001b[0;34m\u001b[0m\u001b[0;34m\u001b[0m\u001b[0m\n",
            "\u001b[0;31mTypeError\u001b[0m: set_model() missing 1 required positional argument: 'model'"
          ]
        }
      ]
    },
    {
      "cell_type": "code",
      "metadata": {
        "colab": {
          "base_uri": "https://localhost:8080/"
        },
        "id": "DA8bb-E9mEhn",
        "outputId": "bfbfdb16-2f57-4464-d70d-0115709e04c3"
      },
      "source": [
        "import time\n",
        "\n",
        "time.time()"
      ],
      "execution_count": 16,
      "outputs": [
        {
          "output_type": "execute_result",
          "data": {
            "text/plain": [
              "1623828917.5039914"
            ]
          },
          "metadata": {
            "tags": []
          },
          "execution_count": 16
        }
      ]
    },
    {
      "cell_type": "code",
      "metadata": {
        "colab": {
          "base_uri": "https://localhost:8080/"
        },
        "id": "W1fwlVs2n2S8",
        "outputId": "5466bc9a-6049-43cf-8100-216dc1d8e97a"
      },
      "source": [
        "model.save('3x3x64-catvsdog.model')"
      ],
      "execution_count": 70,
      "outputs": [
        {
          "output_type": "stream",
          "text": [
            "INFO:tensorflow:Assets written to: 3x3x64-catvsdog.model/assets\n"
          ],
          "name": "stdout"
        }
      ]
    },
    {
      "cell_type": "code",
      "metadata": {
        "id": "7BPqvaZZoH41"
      },
      "source": [
        "!unzip dogtest.zip -d 'test/dogs/'"
      ],
      "execution_count": null,
      "outputs": []
    },
    {
      "cell_type": "code",
      "metadata": {
        "id": "vjLIMWVmoZqH"
      },
      "source": [
        "!unzip cattest.zip -d 'test/cats/'"
      ],
      "execution_count": null,
      "outputs": []
    },
    {
      "cell_type": "code",
      "metadata": {
        "id": "g9UNAWcgoo02"
      },
      "source": [
        "# mình làm predict ở đây nha\n",
        "import cv2\n",
        "import keras\n",
        "import numpy as np\n",
        "from keras.preprocessing import image\n",
        "from os import listdir\n",
        "from os.path import isfile, join\n",
        "\n",
        "\n",
        "CATEGORIES = ['cats', 'dogs']\n",
        "\n",
        "\n",
        "def image(path):\n",
        "    img = cv2.imread(path, cv2.IMREAD_GRAYSCALE)\n",
        "    new_arr = cv2.resize(img, (60, 60))\n",
        "    new_arr = np.array(new_arr)\n",
        "    new_arr = new_arr.reshape(-1, 60, 60, 1)\n",
        "    return new_arr\n",
        "\n",
        "model = keras.models.load_model('3x3x64-catvsdog.model')\n",
        "\n"
      ],
      "execution_count": 71,
      "outputs": []
    },
    {
      "cell_type": "code",
      "metadata": {
        "colab": {
          "base_uri": "https://localhost:8080/"
        },
        "id": "i_oND-WXpBNX",
        "outputId": "a7f75927-e603-42d9-9de9-9fa13c3a1833"
      },
      "source": [
        "\n",
        "prediction = model.predict([image('test/predict_small/cho2.jpg')])\n",
        "print(CATEGORIES[prediction.argmax()])"
      ],
      "execution_count": 76,
      "outputs": [
        {
          "output_type": "stream",
          "text": [
            "dogs\n"
          ],
          "name": "stdout"
        }
      ]
    },
    {
      "cell_type": "code",
      "metadata": {
        "colab": {
          "base_uri": "https://localhost:8080/"
        },
        "id": "oxHVWHDgqqXF",
        "outputId": "a08b852b-d07f-4504-bdaa-1774a988a4a9"
      },
      "source": [
        ""
      ],
      "execution_count": 19,
      "outputs": [
        {
          "output_type": "stream",
          "text": [
            "['4.jpg', '3.jpg', '6.jpg', '2.jpg', '1.jpg', '5.jpg']\n",
            "cats\n",
            "cats\n",
            "cats\n",
            "dogs\n",
            "dogs\n",
            "cats\n"
          ],
          "name": "stdout"
        }
      ]
    },
    {
      "cell_type": "code",
      "metadata": {
        "id": "hYBzc3bXx_hU"
      },
      "source": [
        "DIRECTORY_Test = r'test'\n",
        "CATEGORIES_Test =  ['cats','dogs']"
      ],
      "execution_count": 73,
      "outputs": []
    },
    {
      "cell_type": "code",
      "metadata": {
        "colab": {
          "base_uri": "https://localhost:8080/"
        },
        "id": "ibzBTRYByJOy",
        "outputId": "2029487c-aa89-44be-e5ac-b2ec066abb8b"
      },
      "source": [
        "data_test = []\n",
        "for category in CATEGORIES_Test:\n",
        "    path = os.path.join(DIRECTORY_Test, category)\n",
        "    for img in os.listdir(path):\n",
        "        img_path = os.path.join(path, img)\n",
        "        label = CATEGORIES_Test.index(category)\n",
        "\n",
        "        data_test.append([img,label])\n",
        "random.shuffle(data_test)       \n",
        "print(data_test[:3])  \n",
        "print(len(data_test))\n",
        "for i in range(len(data_test)-1000):\n",
        "  print(data_test[i][1])      "
      ],
      "execution_count": 74,
      "outputs": [
        {
          "output_type": "stream",
          "text": [
            "[['cat.1232.jpg', 0], ['dog.1106.jpg', 1], ['cat.1220.jpg', 0]]\n",
            "1008\n",
            "0\n",
            "1\n",
            "0\n",
            "0\n",
            "0\n",
            "0\n",
            "1\n",
            "0\n"
          ],
          "name": "stdout"
        }
      ]
    },
    {
      "cell_type": "code",
      "metadata": {
        "id": "m8dCZWmt0sYe"
      },
      "source": [
        "!unzip dogtest.zip -d 'test/predict/'"
      ],
      "execution_count": null,
      "outputs": []
    },
    {
      "cell_type": "code",
      "metadata": {
        "id": "zIWJ2cHa0uRg"
      },
      "source": [
        "!unzip cattest.zip -d 'test/predict/'"
      ],
      "execution_count": null,
      "outputs": []
    },
    {
      "cell_type": "code",
      "metadata": {
        "colab": {
          "base_uri": "https://localhost:8080/"
        },
        "id": "iR-lLN6L10N9",
        "outputId": "09fa5b73-c159-4e80-86fe-e2a8390e5d75"
      },
      "source": [
        "data_test_size = len(data_test) \n",
        "#data_test_size = data_test_size - 980\n",
        "acc =0 \n",
        "mypath = \"test/predict/\"\n",
        "onlyfiles = [f for f in listdir(mypath) if isfile(join(mypath, f))]\n",
        "print(onlyfiles)\n",
        "for i in range(len(data_test)):\n",
        "  link = join(mypath,data_test[i][0])\n",
        "  prediction = model.predict([image(link)])\n",
        "  if prediction.argmax() == data_test[i][1]:\n",
        "    acc = acc+1\n",
        "    #print(prediction.argmax())\n",
        "    #print(data_test[i][1])\n",
        "  #print(CATEGORIES_Test[prediction.argmax()])\n",
        "\n",
        "print(\"Predict Accuracy = \", 100*float(acc/data_test_size))  "
      ],
      "execution_count": 75,
      "outputs": [
        {
          "output_type": "stream",
          "text": [
            "['dog.1047.jpg', 'dog.1379.jpg', 'dog.1386.jpg', 'cat.1077.jpg', 'cat.1080.jpg', 'dog.1484.jpg', 'dog.1330.jpg', 'dog.1038.jpg', 'dog.1227.jpg', 'cat.1262.jpg', 'cat.1435.jpg', 'cat.1009.jpg', 'dog.1451.jpg', 'dog.1106.jpg', 'dog.1302.jpg', 'dog.1389.jpg', 'cat.1174.jpg', 'dog.1067.jpg', 'dog.1438.jpg', 'cat.1006.jpg', 'dog.1286.jpg', 'dog.1450.jpg', 'dog.1118.jpg', 'dog.1131.jpg', 'dog.1346.jpg', 'cat.1072.jpg', 'cat.1030.jpg', 'dog.1273.jpg', 'cat.1469.jpg', 'dog.1030.jpg', 'dog.1134.jpg', 'dog.1224.jpg', 'cat.1234.jpg', 'dog.1054.jpg', 'cat.1404.jpg', 'cat.1017.jpg', 'dog.1139.jpg', 'dog.1275.jpg', 'dog.1162.jpg', 'cat.1374.jpg', 'cat.1495.jpg', 'dog.1311.jpg', 'cat.1190.jpg', 'cat.1472.jpg', 'dog.1135.jpg', 'dog.1315.jpg', 'cat.1237.jpg', 'dog.1065.jpg', 'dog.1029.jpg', 'dog.1157.jpg', 'cat.1027.jpg', 'cat.1210.jpg', 'cat.1079.jpg', 'cat.1081.jpg', 'dog.1496.jpg', 'dog.1148.jpg', 'cat.1134.jpg', 'dog.1259.jpg', 'cat.1252.jpg', 'cat.1430.jpg', 'cat.1442.jpg', 'dog.1048.jpg', 'cat.1010.jpg', 'dog.1060.jpg', 'dog.1287.jpg', 'cat.1307.jpg', 'dog.1042.jpg', 'dog.1074.jpg', 'cat.1458.jpg', 'cat.1050.jpg', 'cat.1232.jpg', 'cat.1242.jpg', 'cat.1132.jpg', 'cat.1302.jpg', 'cat.1195.jpg', 'cat.1042.jpg', 'cat.1326.jpg', 'dog.1208.jpg', 'dog.1199.jpg', 'cat.1489.jpg', 'cat.1333.jpg', 'dog.1213.jpg', 'cat.1043.jpg', 'cat.1362.jpg', 'dog.1212.jpg', 'cat.1277.jpg', 'dog.1023.jpg', 'cat.1295.jpg', 'cat.1188.jpg', 'cat.1243.jpg', 'dog.1210.jpg', 'dog.1158.jpg', 'cat.1498.jpg', 'cat.1355.jpg', 'dog.1279.jpg', 'cat.1228.jpg', 'dog.1247.jpg', 'dog.1434.jpg', 'cat.1257.jpg', 'dog.1466.jpg', 'cat.1309.jpg', 'cat.1323.jpg', 'cat.1481.jpg', 'dog.1459.jpg', 'dog.1418.jpg', 'dog.1205.jpg', 'dog.1143.jpg', 'cat.1063.jpg', 'cat.1014.jpg', 'dog.1498.jpg', 'cat.1439.jpg', 'dog.1470.jpg', 'dog.1453.jpg', 'cat.1021.jpg', 'cat.1111.jpg', 'dog.1007.jpg', 'cat.1417.jpg', 'dog.1175.jpg', 'cat.1139.jpg', 'dog.1041.jpg', 'cat.1038.jpg', 'cat.1116.jpg', 'cat.1334.jpg', 'dog.1383.jpg', 'cat.1436.jpg', 'dog.1377.jpg', 'cat.1012.jpg', 'dog.1333.jpg', 'dog.1493.jpg', 'cat.1048.jpg', 'cat.1418.jpg', 'dog.1044.jpg', 'dog.1037.jpg', 'dog.1305.jpg', 'cat.1169.jpg', 'cat.1039.jpg', 'dog.1063.jpg', 'cat.1152.jpg', 'dog.1171.jpg', 'cat.1380.jpg', 'cat.1160.jpg', 'dog.1232.jpg', 'dog.1367.jpg', 'cat.1386.jpg', 'cat.1434.jpg', 'cat.1217.jpg', 'dog.1439.jpg', 'dog.1463.jpg', 'dog.1473.jpg', 'cat.1061.jpg', 'dog.1183.jpg', 'cat.1128.jpg', 'dog.1432.jpg', 'dog.1455.jpg', 'dog.1489.jpg', 'dog.1073.jpg', 'dog.1500.jpg', 'cat.1184.jpg', 'cat.1067.jpg', 'cat.1186.jpg', 'dog.1357.jpg', 'dog.1443.jpg', 'dog.1130.jpg', 'cat.1400.jpg', 'dog.1233.jpg', 'cat.1372.jpg', 'cat.1230.jpg', 'cat.1457.jpg', 'cat.1143.jpg', 'cat.1485.jpg', 'dog.1376.jpg', 'cat.1287.jpg', 'dog.1090.jpg', 'dog.1488.jpg', 'dog.1372.jpg', 'cat.1351.jpg', 'dog.1289.jpg', 'cat.1218.jpg', 'cat.1281.jpg', 'dog.1490.jpg', 'cat.1108.jpg', 'dog.1414.jpg', 'dog.1163.jpg', 'dog.1301.jpg', 'cat.1291.jpg', 'cat.1422.jpg', 'cat.1322.jpg', 'dog.1433.jpg', 'cat.1212.jpg', 'dog.1353.jpg', 'dog.1170.jpg', 'cat.1336.jpg', 'cat.1421.jpg', 'dog.1012.jpg', 'cat.1426.jpg', 'dog.1460.jpg', 'dog.1278.jpg', 'dog.1297.jpg', 'cat.1034.jpg', 'dog.1196.jpg', 'dog.1392.jpg', 'dog.1469.jpg', 'cat.1236.jpg', 'dog.1338.jpg', 'cat.1193.jpg', 'cat.1399.jpg', 'cat.1002.jpg', 'cat.1069.jpg', 'cat.1109.jpg', 'cat.1441.jpg', 'dog.1480.jpg', 'dog.1325.jpg', 'dog.1326.jpg', 'cat.1062.jpg', 'dog.1406.jpg', 'dog.1246.jpg', 'dog.1165.jpg', 'cat.1369.jpg', 'cat.1456.jpg', 'cat.1170.jpg', 'cat.1491.jpg', 'cat.1365.jpg', 'dog.1209.jpg', 'cat.1357.jpg', 'cat.1151.jpg', 'dog.1486.jpg', 'cat.1313.jpg', 'cat.1187.jpg', 'dog.1132.jpg', 'dog.1121.jpg', 'dog.1015.jpg', 'cat.1159.jpg', 'dog.1411.jpg', 'cat.1118.jpg', 'dog.1093.jpg', 'dog.1019.jpg', 'dog.1177.jpg', 'cat.1445.jpg', 'dog.1160.jpg', 'dog.1468.jpg', 'dog.1251.jpg', 'cat.1397.jpg', 'cat.1383.jpg', 'cat.1096.jpg', 'cat.1504.jpg', 'cat.1133.jpg', 'cat.1123.jpg', 'cat.1041.jpg', 'cat.1401.jpg', 'cat.1429.jpg', 'cat.1403.jpg', 'cat.1035.jpg', 'dog.1271.jpg', 'dog.1137.jpg', 'cat.1395.jpg', 'dog.1031.jpg', 'cat.1497.jpg', 'cat.1339.jpg', 'dog.1304.jpg', 'cat.1279.jpg', 'dog.1260.jpg', 'dog.1385.jpg', 'dog.1485.jpg', 'cat.1343.jpg', 'dog.1505.jpg', 'cat.1222.jpg', 'cat.1121.jpg', 'dog.1189.jpg', 'cat.1462.jpg', 'cat.1085.jpg', 'cat.1321.jpg', 'dog.1391.jpg', 'cat.1075.jpg', 'cat.1433.jpg', 'dog.1064.jpg', 'dog.1176.jpg', 'cat.1471.jpg', 'cat.1502.jpg', 'dog.1075.jpg', 'dog.1174.jpg', 'cat.1147.jpg', 'dog.1051.jpg', 'cat.1448.jpg', 'dog.1155.jpg', 'cat.1324.jpg', 'cat.1099.jpg', 'cat.1204.jpg', 'dog.1181.jpg', 'dog.1499.jpg', 'dog.1167.jpg', 'dog.1361.jpg', 'dog.1323.jpg', 'dog.1431.jpg', 'dog.1360.jpg', 'cat.1130.jpg', 'dog.1225.jpg', 'cat.1178.jpg', 'cat.1440.jpg', 'cat.1091.jpg', 'cat.1171.jpg', 'dog.1381.jpg', 'cat.1065.jpg', 'cat.1486.jpg', 'dog.1055.jpg', 'dog.1407.jpg', 'dog.1027.jpg', 'dog.1152.jpg', 'dog.1127.jpg', 'dog.1182.jpg', 'dog.1387.jpg', 'cat.1304.jpg', 'cat.1409.jpg', 'cat.1367.jpg', 'cat.1078.jpg', 'cat.1297.jpg', 'cat.1209.jpg', 'dog.1430.jpg', 'dog.1218.jpg', 'dog.1461.jpg', 'cat.1131.jpg', 'dog.1133.jpg', 'dog.1482.jpg', 'cat.1150.jpg', 'dog.1419.jpg', 'dog.1336.jpg', 'dog.1335.jpg', 'cat.1388.jpg', 'cat.1060.jpg', 'cat.1117.jpg', 'dog.1483.jpg', 'cat.1452.jpg', 'dog.1503.jpg', 'cat.1443.jpg', 'cat.1258.jpg', 'dog.1122.jpg', 'cat.1019.jpg', 'cat.1356.jpg', 'cat.1165.jpg', 'dog.1017.jpg', 'dog.1043.jpg', 'dog.1045.jpg', 'dog.1229.jpg', 'cat.1162.jpg', 'dog.1178.jpg', 'dog.1337.jpg', 'cat.1294.jpg', 'cat.1405.jpg', 'dog.1425.jpg', 'cat.1211.jpg', 'cat.1505.jpg', 'cat.1102.jpg', 'cat.1285.jpg', 'cat.1196.jpg', 'cat.1113.jpg', 'cat.1110.jpg', 'cat.1306.jpg', 'cat.1411.jpg', 'dog.1408.jpg', 'dog.1076.jpg', 'cat.1172.jpg', 'dog.1207.jpg', 'dog.1416.jpg', 'dog.1168.jpg', 'cat.1126.jpg', 'dog.1426.jpg', 'cat.1419.jpg', 'dog.1013.jpg', 'dog.1223.jpg', 'cat.1149.jpg', 'dog.1356.jpg', 'cat.1416.jpg', 'cat.1103.jpg', 'dog.1393.jpg', 'cat.1093.jpg', 'cat.1191.jpg', 'dog.1502.jpg', 'dog.1454.jpg', 'cat.1360.jpg', 'dog.1084.jpg', 'dog.1080.jpg', 'cat.1501.jpg', 'dog.1354.jpg', 'cat.1483.jpg', 'cat.1280.jpg', 'dog.1382.jpg', 'dog.1028.jpg', 'cat.1148.jpg', 'dog.1494.jpg', 'dog.1265.jpg', 'dog.1089.jpg', 'dog.1309.jpg', 'dog.1368.jpg', 'cat.1266.jpg', 'dog.1228.jpg', 'dog.1479.jpg', 'cat.1453.jpg', 'cat.1493.jpg', 'dog.1149.jpg', 'dog.1441.jpg', 'dog.1036.jpg', 'cat.1420.jpg', 'dog.1126.jpg', 'cat.1320.jpg', 'dog.1437.jpg', 'cat.1305.jpg', 'cat.1059.jpg', 'dog.1262.jpg', 'cat.1070.jpg', 'cat.1007.jpg', 'cat.1129.jpg', 'dog.1444.jpg', 'cat.1423.jpg', 'cat.1157.jpg', 'cat.1231.jpg', 'dog.1103.jpg', 'dog.1319.jpg', 'dog.1457.jpg', 'cat.1447.jpg', 'dog.1351.jpg', 'cat.1046.jpg', 'cat.1066.jpg', 'dog.1310.jpg', 'dog.1364.jpg', 'cat.1181.jpg', 'cat.1298.jpg', 'cat.1301.jpg', 'dog.1365.jpg', 'cat.1402.jpg', 'cat.1088.jpg', 'dog.1104.jpg', 'dog.1144.jpg', 'cat.1406.jpg', 'dog.1219.jpg', 'cat.1107.jpg', 'dog.1169.jpg', 'dog.1422.jpg', 'cat.1432.jpg', 'dog.1423.jpg', 'cat.1203.jpg', 'cat.1215.jpg', 'dog.1061.jpg', 'cat.1331.jpg', 'dog.1258.jpg', 'dog.1016.jpg', 'cat.1219.jpg', 'cat.1479.jpg', 'dog.1410.jpg', 'dog.1191.jpg', 'cat.1344.jpg', 'dog.1128.jpg', 'cat.1260.jpg', 'cat.1487.jpg', 'cat.1328.jpg', 'dog.1087.jpg', 'cat.1224.jpg', 'cat.1463.jpg', 'dog.1417.jpg', 'cat.1464.jpg', 'dog.1092.jpg', 'cat.1308.jpg', 'dog.1173.jpg', 'cat.1412.jpg', 'cat.1040.jpg', 'dog.1072.jpg', 'cat.1349.jpg', 'dog.1240.jpg', 'dog.1395.jpg', 'dog.1252.jpg', 'dog.1053.jpg', 'cat.1052.jpg', 'dog.1226.jpg', 'dog.1446.jpg', 'cat.1245.jpg', 'cat.1254.jpg', 'cat.1082.jpg', 'dog.1049.jpg', 'cat.1238.jpg', 'cat.1249.jpg', 'dog.1472.jpg', 'dog.1312.jpg', 'cat.1023.jpg', 'cat.1106.jpg', 'dog.1266.jpg', 'cat.1158.jpg', 'cat.1475.jpg', 'dog.1230.jpg', 'cat.1335.jpg', 'dog.1204.jpg', 'dog.1186.jpg', 'cat.1205.jpg', 'dog.1052.jpg', 'cat.1057.jpg', 'cat.1283.jpg', 'cat.1391.jpg', 'dog.1340.jpg', 'dog.1156.jpg', 'dog.1068.jpg', 'cat.1261.jpg', 'dog.1465.jpg', 'dog.1110.jpg', 'cat.1282.jpg', 'dog.1150.jpg', 'cat.1431.jpg', 'cat.1477.jpg', 'cat.1368.jpg', 'dog.1449.jpg', 'dog.1025.jpg', 'dog.1270.jpg', 'cat.1168.jpg', 'dog.1292.jpg', 'cat.1206.jpg', 'cat.1311.jpg', 'dog.1331.jpg', 'dog.1342.jpg', 'cat.1175.jpg', 'dog.1339.jpg', 'dog.1298.jpg', 'cat.1341.jpg', 'dog.1390.jpg', 'dog.1401.jpg', 'cat.1024.jpg', 'dog.1237.jpg', 'dog.1322.jpg', 'dog.1046.jpg', 'cat.1005.jpg', 'dog.1244.jpg', 'cat.1213.jpg', 'dog.1352.jpg', 'dog.1111.jpg', 'dog.1329.jpg', 'cat.1270.jpg', 'dog.1281.jpg', 'cat.1179.jpg', 'dog.1295.jpg', 'dog.1197.jpg', 'cat.1467.jpg', 'cat.1413.jpg', 'cat.1379.jpg', 'dog.1142.jpg', 'cat.1136.jpg', 'cat.1084.jpg', 'dog.1447.jpg', 'dog.1327.jpg', 'cat.1354.jpg', 'dog.1269.jpg', 'dog.1188.jpg', 'dog.1264.jpg', 'cat.1189.jpg', 'cat.1137.jpg', 'dog.1506.jpg', 'dog.1062.jpg', 'dog.1151.jpg', 'dog.1024.jpg', 'cat.1278.jpg', 'cat.1073.jpg', 'dog.1014.jpg', 'cat.1138.jpg', 'dog.1492.jpg', 'cat.1454.jpg', 'dog.1374.jpg', 'cat.1051.jpg', 'cat.1466.jpg', 'dog.1380.jpg', 'dog.1018.jpg', 'cat.1265.jpg', 'cat.1197.jpg', 'cat.1026.jpg', 'dog.1497.jpg', 'cat.1289.jpg', 'cat.1167.jpg', 'dog.1355.jpg', 'dog.1324.jpg', 'cat.1250.jpg', 'cat.1451.jpg', 'cat.1233.jpg', 'dog.1211.jpg', 'cat.1478.jpg', 'dog.1307.jpg', 'cat.1235.jpg', 'cat.1015.jpg', 'cat.1273.jpg', 'cat.1319.jpg', 'dog.1345.jpg', 'cat.1202.jpg', 'cat.1494.jpg', 'cat.1094.jpg', 'dog.1475.jpg', 'cat.1220.jpg', 'dog.1272.jpg', 'cat.1156.jpg', 'dog.1217.jpg', 'cat.1310.jpg', 'dog.1202.jpg', 'cat.1468.jpg', 'cat.1390.jpg', 'cat.1246.jpg', 'cat.1226.jpg', 'cat.1330.jpg', 'cat.1415.jpg', 'cat.1045.jpg', 'dog.1349.jpg', 'dog.1241.jpg', 'cat.1055.jpg', 'dog.1115.jpg', 'cat.1053.jpg', 'dog.1206.jpg', 'cat.1177.jpg', 'dog.1070.jpg', 'cat.1255.jpg', 'dog.1481.jpg', 'dog.1313.jpg', 'cat.1239.jpg', 'cat.1461.jpg', 'dog.1095.jpg', 'dog.1238.jpg', 'cat.1327.jpg', 'cat.1500.jpg', 'cat.1140.jpg', 'cat.1074.jpg', 'cat.1480.jpg', 'dog.1487.jpg', 'cat.1198.jpg', 'dog.1159.jpg', 'cat.1286.jpg', 'cat.1275.jpg', 'cat.1013.jpg', 'cat.1146.jpg', 'cat.1068.jpg', 'dog.1373.jpg', 'dog.1231.jpg', 'dog.1413.jpg', 'dog.1153.jpg', 'dog.1464.jpg', 'cat.1011.jpg', 'cat.1449.jpg', 'dog.1300.jpg', 'cat.1142.jpg', 'dog.1102.jpg', 'dog.1096.jpg', 'cat.1241.jpg', 'cat.1125.jpg', 'cat.1194.jpg', 'cat.1288.jpg', 'dog.1314.jpg', 'cat.1348.jpg', 'cat.1256.jpg', 'cat.1300.jpg', 'dog.1363.jpg', 'dog.1185.jpg', 'dog.1409.jpg', 'cat.1087.jpg', 'cat.1352.jpg', 'dog.1192.jpg', 'dog.1394.jpg', 'dog.1071.jpg', 'dog.1033.jpg', 'dog.1079.jpg', 'dog.1263.jpg', 'dog.1317.jpg', 'dog.1100.jpg', 'cat.1342.jpg', 'dog.1220.jpg', 'dog.1359.jpg', 'dog.1288.jpg', 'dog.1086.jpg', 'cat.1376.jpg', 'cat.1384.jpg', 'cat.1314.jpg', 'dog.1172.jpg', 'dog.1180.jpg', 'dog.1334.jpg', 'cat.1056.jpg', 'dog.1358.jpg', 'dog.1010.jpg', 'cat.1127.jpg', 'dog.1136.jpg', 'cat.1163.jpg', 'dog.1057.jpg', 'cat.1414.jpg', 'cat.1325.jpg', 'dog.1009.jpg', 'cat.1490.jpg', 'cat.1347.jpg', 'cat.1363.jpg', 'cat.1199.jpg', 'dog.1427.jpg', 'cat.1155.jpg', 'dog.1020.jpg', 'dog.1166.jpg', 'cat.1092.jpg', 'dog.1145.jpg', 'cat.1455.jpg', 'dog.1277.jpg', 'cat.1227.jpg', 'cat.1377.jpg', 'dog.1257.jpg', 'dog.1320.jpg', 'cat.1274.jpg', 'dog.1120.jpg', 'dog.1476.jpg', 'dog.1085.jpg', 'cat.1120.jpg', 'dog.1255.jpg', 'cat.1018.jpg', 'cat.1389.jpg', 'dog.1099.jpg', 'cat.1296.jpg', 'cat.1359.jpg', 'dog.1253.jpg', 'dog.1107.jpg', 'dog.1164.jpg', 'cat.1269.jpg', 'dog.1190.jpg', 'cat.1353.jpg', 'cat.1200.jpg', 'cat.1473.jpg', 'dog.1405.jpg', 'cat.1192.jpg', 'cat.1387.jpg', 'dog.1458.jpg', 'dog.1316.jpg', 'dog.1428.jpg', 'dog.1195.jpg', 'cat.1083.jpg', 'dog.1214.jpg', 'cat.1086.jpg', 'dog.1138.jpg', 'dog.1371.jpg', 'cat.1316.jpg', 'dog.1004.jpg', 'cat.1337.jpg', 'cat.1312.jpg', 'cat.1271.jpg', 'dog.1280.jpg', 'cat.1329.jpg', 'dog.1328.jpg', 'dog.1203.jpg', 'dog.1098.jpg', 'cat.1346.jpg', 'cat.1036.jpg', 'dog.1222.jpg', 'dog.1388.jpg', 'cat.1488.jpg', 'dog.1421.jpg', 'cat.1272.jpg', 'cat.1381.jpg', 'dog.1200.jpg', 'cat.1004.jpg', 'cat.1047.jpg', 'dog.1445.jpg', 'dog.1396.jpg', 'dog.1117.jpg', 'dog.1398.jpg', 'dog.1129.jpg', 'cat.1290.jpg', 'dog.1403.jpg', 'dog.1378.jpg', 'dog.1034.jpg', 'dog.1008.jpg', 'cat.1318.jpg', 'cat.1098.jpg', 'cat.1095.jpg', 'cat.1373.jpg', 'cat.1470.jpg', 'dog.1198.jpg', 'dog.1501.jpg', 'cat.1112.jpg', 'dog.1467.jpg', 'dog.1026.jpg', 'dog.1402.jpg', 'dog.1397.jpg', 'dog.1059.jpg', 'dog.1058.jpg', 'cat.1161.jpg', 'cat.1253.jpg', 'cat.1484.jpg', 'cat.1317.jpg', 'dog.1215.jpg', 'dog.1369.jpg', 'cat.1425.jpg', 'cat.1115.jpg', 'dog.1474.jpg', 'cat.1100.jpg', 'dog.1347.jpg', 'dog.1201.jpg', 'dog.1318.jpg', 'cat.1025.jpg', 'cat.1008.jpg', 'cat.1375.jpg', 'cat.1208.jpg', 'dog.1296.jpg', 'dog.1429.jpg', 'dog.1094.jpg', 'cat.1366.jpg', 'dog.1412.jpg', 'dog.1267.jpg', 'cat.1303.jpg', 'dog.1491.jpg', 'cat.1182.jpg', 'cat.1465.jpg', 'cat.1089.jpg', 'cat.1437.jpg', 'dog.1456.jpg', 'dog.1091.jpg', 'cat.1166.jpg', 'dog.1109.jpg', 'cat.1315.jpg', 'dog.1105.jpg', 'cat.1370.jpg', 'dog.1040.jpg', 'cat.1122.jpg', 'cat.1223.jpg', 'dog.1083.jpg', 'dog.1303.jpg', 'dog.1005.jpg', 'cat.1031.jpg', 'cat.1444.jpg', 'dog.1261.jpg', 'cat.1438.jpg', 'cat.1044.jpg', 'dog.1306.jpg', 'cat.1385.jpg', 'cat.1499.jpg', 'dog.1366.jpg', 'cat.1216.jpg', 'cat.1037.jpg', 'cat.1332.jpg', 'cat.1229.jpg', 'cat.1340.jpg', 'dog.1184.jpg', 'dog.1495.jpg', 'cat.1361.jpg', 'dog.1146.jpg', 'dog.1282.jpg', 'cat.1207.jpg', 'dog.1256.jpg', 'cat.1064.jpg', 'dog.1477.jpg', 'dog.1077.jpg', 'cat.1382.jpg', 'dog.1101.jpg', 'cat.1292.jpg', 'cat.1003.jpg', 'cat.1104.jpg', 'cat.1251.jpg', 'dog.1235.jpg', 'dog.1245.jpg', 'cat.1201.jpg', 'dog.1242.jpg', 'dog.1290.jpg', 'dog.1249.jpg', 'dog.1370.jpg', 'cat.1016.jpg', 'cat.1496.jpg', 'cat.1459.jpg', 'cat.1267.jpg', 'dog.1384.jpg', 'cat.1164.jpg', 'dog.1344.jpg', 'dog.1193.jpg', 'cat.1264.jpg', 'dog.1343.jpg', 'dog.1400.jpg', 'cat.1240.jpg', 'dog.1415.jpg', 'dog.1141.jpg', 'cat.1076.jpg', 'cat.1183.jpg', 'cat.1141.jpg', 'dog.1299.jpg', 'dog.1375.jpg', 'dog.1011.jpg', 'cat.1410.jpg', 'dog.1078.jpg', 'dog.1179.jpg', 'dog.1140.jpg', 'cat.1350.jpg', 'dog.1250.jpg', 'dog.1420.jpg', 'dog.1435.jpg', 'dog.1276.jpg', 'cat.1153.jpg', 'dog.1362.jpg', 'dog.1471.jpg', 'cat.1248.jpg', 'dog.1504.jpg', 'dog.1069.jpg', 'dog.1035.jpg', 'dog.1308.jpg', 'cat.1394.jpg', 'dog.1161.jpg', 'dog.1285.jpg', 'dog.1066.jpg', 'cat.1407.jpg', 'cat.1427.jpg', 'cat.1135.jpg', 'dog.1021.jpg', 'dog.1478.jpg', 'cat.1263.jpg', 'dog.1341.jpg', 'cat.1180.jpg', 'cat.1482.jpg', 'cat.1371.jpg', 'cat.1032.jpg', 'dog.1112.jpg', 'cat.1378.jpg', 'dog.1124.jpg', 'dog.1119.jpg', 'cat.1022.jpg', 'cat.1101.jpg', 'dog.1056.jpg', 'dog.1283.jpg', 'dog.1050.jpg', 'cat.1358.jpg', 'dog.1088.jpg', 'cat.1364.jpg', 'dog.1236.jpg', 'cat.1114.jpg', 'dog.1039.jpg', 'dog.1436.jpg', 'cat.1054.jpg', 'cat.1225.jpg', 'dog.1332.jpg', 'cat.1446.jpg', 'dog.1003.jpg', 'dog.1154.jpg', 'dog.1424.jpg', 'dog.1448.jpg', 'cat.1396.jpg', 'cat.1299.jpg', 'cat.1145.jpg', 'cat.1090.jpg', 'cat.1345.jpg', 'cat.1293.jpg', 'dog.1350.jpg', 'dog.1452.jpg', 'cat.1185.jpg', 'dog.1125.jpg', 'dog.1082.jpg', 'dog.1440.jpg', 'cat.1173.jpg', 'dog.1348.jpg', 'cat.1424.jpg', 'dog.1248.jpg', 'cat.1408.jpg', 'dog.1216.jpg', 'cat.1058.jpg', 'cat.1428.jpg', 'dog.1116.jpg', 'dog.1234.jpg', 'dog.1239.jpg', 'dog.1284.jpg', 'cat.1144.jpg', 'cat.1259.jpg', 'dog.1108.jpg', 'cat.1214.jpg', 'cat.1393.jpg', 'dog.1274.jpg', 'cat.1476.jpg', 'cat.1492.jpg', 'dog.1221.jpg', 'cat.1105.jpg', 'dog.1147.jpg', 'dog.1006.jpg', 'cat.1450.jpg', 'cat.1049.jpg', 'dog.1187.jpg', 'cat.1276.jpg', 'dog.1114.jpg', 'dog.1022.jpg', 'dog.1321.jpg', 'dog.1268.jpg', 'cat.1154.jpg', 'dog.1081.jpg', 'dog.1294.jpg', 'dog.1404.jpg', 'dog.1442.jpg', 'dog.1462.jpg', 'dog.1123.jpg', 'cat.1221.jpg', 'cat.1071.jpg', 'cat.1119.jpg', 'cat.1460.jpg', 'cat.1033.jpg', 'cat.1398.jpg', 'cat.1338.jpg', 'dog.1291.jpg', 'cat.1029.jpg', 'cat.1392.jpg', 'cat.1244.jpg', 'cat.1503.jpg', 'cat.1020.jpg', 'cat.1028.jpg', 'cat.1124.jpg', 'dog.1194.jpg', 'cat.1268.jpg', 'cat.1247.jpg', 'dog.1243.jpg', 'cat.1097.jpg', 'cat.1284.jpg', 'dog.1293.jpg', 'dog.1399.jpg', 'cat.1176.jpg', 'dog.1254.jpg', 'dog.1097.jpg', 'cat.1474.jpg', 'dog.1113.jpg', 'dog.1032.jpg']\n",
            "Predict Accuracy =  63.591269841269835\n"
          ],
          "name": "stdout"
        }
      ]
    },
    {
      "cell_type": "markdown",
      "metadata": {
        "id": "idXvOCtzCUVQ"
      },
      "source": [
        ""
      ]
    },
    {
      "cell_type": "markdown",
      "metadata": {
        "id": "LerhOYTwqBmz"
      },
      "source": [
        ""
      ]
    },
    {
      "cell_type": "code",
      "metadata": {
        "colab": {
          "base_uri": "https://localhost:8080/"
        },
        "id": "zrMh2Zxb5lO6",
        "outputId": "1a03774a-af01-4662-a225-eb50a2f536a2"
      },
      "source": [
        ""
      ],
      "execution_count": 48,
      "outputs": [
        {
          "output_type": "execute_result",
          "data": {
            "text/plain": [
              "True"
            ]
          },
          "metadata": {
            "tags": []
          },
          "execution_count": 48
        }
      ]
    },
    {
      "cell_type": "code",
      "metadata": {
        "id": "Zaq4wRvC5mXz"
      },
      "source": [
        ""
      ],
      "execution_count": null,
      "outputs": []
    }
  ]
}