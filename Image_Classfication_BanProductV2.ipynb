{
  "nbformat": 4,
  "nbformat_minor": 0,
  "metadata": {
    "colab": {
      "name": "Copy of Untitled3.ipynb",
      "provenance": [],
      "collapsed_sections": [],
      "include_colab_link": true
    },
    "kernelspec": {
      "name": "python3",
      "display_name": "Python 3"
    },
    "language_info": {
      "name": "python"
    }
  },
  "cells": [
    {
      "cell_type": "markdown",
      "metadata": {
        "id": "view-in-github",
        "colab_type": "text"
      },
      "source": [
        "<a href=\"https://colab.research.google.com/github/baoloc97/Data-science/blob/main/Image_Classfication_BanProductV2.ipynb\" target=\"_parent\"><img src=\"https://colab.research.google.com/assets/colab-badge.svg\" alt=\"Open In Colab\"/></a>"
      ]
    },
    {
      "cell_type": "code",
      "metadata": {
        "id": "GxDrHL1vpiWL"
      },
      "source": [
        "!unzip ban..zip -d 'train/ban/'"
      ],
      "execution_count": null,
      "outputs": []
    },
    {
      "cell_type": "code",
      "metadata": {
        "id": "cnQu9qjMricG"
      },
      "source": [
        "import numpy as np \n",
        "import cv2\n",
        "import os\n",
        "import random\n",
        "import matplotlib.pyplot as plt \n",
        "import pickle\n"
      ],
      "execution_count": null,
      "outputs": []
    },
    {
      "cell_type": "code",
      "metadata": {
        "id": "1AVYIdBgsHEe"
      },
      "source": [
        "DIRECTORY = r'train'\n",
        "CATEGORIES =  ['ban','unban']\n"
      ],
      "execution_count": null,
      "outputs": []
    },
    {
      "cell_type": "code",
      "metadata": {
        "id": "V7aKqq3DFSlk"
      },
      "source": [
        "IMG_SIZE = 224\n",
        "data = []\n",
        "\n",
        "for category in CATEGORIES:\n",
        "    path = os.path.join(DIRECTORY, category)\n",
        "    for img in os.listdir(path):\n",
        "        img_path = os.path.join(path, img)\n",
        "        label = CATEGORIES.index(category)\n",
        "        arr = cv2.imread(img_path, cv2.IMREAD_GRAYSCALE)\n",
        "        new_arr = cv2.resize(arr, (60, 60))\n",
        "        data.append([new_arr, label])"
      ],
      "execution_count": null,
      "outputs": []
    },
    {
      "cell_type": "code",
      "metadata": {
        "id": "MJxkLmM8wQtv"
      },
      "source": [
        "random.shuffle(data)"
      ],
      "execution_count": null,
      "outputs": []
    },
    {
      "cell_type": "code",
      "metadata": {
        "colab": {
          "base_uri": "https://localhost:8080/"
        },
        "id": "MB6tlYWJwlG2",
        "outputId": "7bff46e9-4262-43ea-db0f-a81b1d72aca9"
      },
      "source": [
        "X = []\n",
        "y = []\n",
        "for features, labels in data:\n",
        "\tX.append(features)\n",
        "\ty.append(labels)\n",
        "\n",
        "X = np.array(X)\n",
        "y = np.array(y)\n",
        "\n",
        "print(X[0])"
      ],
      "execution_count": null,
      "outputs": [
        {
          "output_type": "stream",
          "text": [
            "[[180 173 185 ... 246 246 246]\n",
            " [193 173 189 ... 245 243 243]\n",
            " [197 182 194 ... 246 247 244]\n",
            " ...\n",
            " [188 196 206 ... 207 248 225]\n",
            " [244 225 231 ... 240 244 206]\n",
            " [250 249 249 ... 247 215 209]]\n"
          ],
          "name": "stdout"
        }
      ]
    },
    {
      "cell_type": "code",
      "metadata": {
        "id": "N2C-Ctg74mfb"
      },
      "source": [
        "pickle.dump(X,open('X.pkl','wb'))\n",
        "pickle.dump(y,open('y.pkl','wb'))"
      ],
      "execution_count": null,
      "outputs": []
    },
    {
      "cell_type": "code",
      "metadata": {
        "id": "Wb21egzPwuEF"
      },
      "source": [
        "import pickle\n",
        "import tensorflow\n",
        "from tensorflow.keras import models\n",
        "from tensorflow.keras.models import Sequential\n",
        "from tensorflow.keras.layers import Conv2D,MaxPool2D,Flatten,Dense\n",
        "from tensorflow.keras.callbacks import TensorBoard\n",
        "import keras.losses\n",
        "keras.losses.custom_loss = 'spare_categorical_crossentrop'\n",
        "X = pickle.load(open('X.pkl','rb'))\n",
        "y = pickle.load(open('y.pkl','rb'))\n",
        "\n"
      ],
      "execution_count": null,
      "outputs": []
    },
    {
      "cell_type": "code",
      "metadata": {
        "id": "9xiJSvzEz_Bp"
      },
      "source": [
        "X = X/255\n"
      ],
      "execution_count": null,
      "outputs": []
    },
    {
      "cell_type": "code",
      "metadata": {
        "id": "_mGzjUGl36US"
      },
      "source": [
        "#y = np.asarray(y).astype('float32').reshape((1,-1))"
      ],
      "execution_count": null,
      "outputs": []
    },
    {
      "cell_type": "code",
      "metadata": {
        "colab": {
          "base_uri": "https://localhost:8080/"
        },
        "id": "69qTzdQZ3w4o",
        "outputId": "becf8b16-df88-4727-9049-0d89712d71b6"
      },
      "source": [
        "print(X.shape)\n",
        "print(y.shape)"
      ],
      "execution_count": null,
      "outputs": [
        {
          "output_type": "stream",
          "text": [
            "(2001, 60, 60, 1)\n",
            "(2001,)\n"
          ],
          "name": "stdout"
        }
      ]
    },
    {
      "cell_type": "code",
      "metadata": {
        "id": "mefLQjENGfi2"
      },
      "source": [
        "X = X.reshape(-1, 60, 60, 1)"
      ],
      "execution_count": null,
      "outputs": []
    },
    {
      "cell_type": "code",
      "metadata": {
        "id": "mE55FItHGvF6"
      },
      "source": [
        "#Ở đây Dùng CNN ~ 64%, google net, effecient net work better ~ 76%\n",
        "model = Sequential()\n",
        "\n",
        "model.add(Conv2D(64, (3,3), activation = 'relu'))\n",
        "model.add(MaxPool2D((2,2)))\n",
        "\n",
        "model.add(Conv2D(64, (3,3), activation = 'relu'))\n",
        "model.add(MaxPool2D((2,2)))\n",
        "\n",
        "model.add(Flatten())\n",
        "\n",
        "model.add(Dense(128, input_shape = X.shape[1:], activation = 'relu'))\n",
        "\n",
        "model.add(Dense(2, activation = 'softmax'))"
      ],
      "execution_count": null,
      "outputs": []
    },
    {
      "cell_type": "code",
      "metadata": {
        "id": "WJ3yOnWxG8N7"
      },
      "source": [
        "model.compile(optimizer='adam',\n",
        "              loss='sparse_categorical_crossentropy',\n",
        "              metrics=['accuracy'])"
      ],
      "execution_count": null,
      "outputs": []
    },
    {
      "cell_type": "code",
      "metadata": {
        "id": "5jeFJvnIHBmf"
      },
      "source": [
        "model.fit(X, y, epochs=1, validation_split=0.2,batch_size=32)"
      ],
      "execution_count": null,
      "outputs": []
    },
    {
      "cell_type": "code",
      "metadata": {
        "colab": {
          "base_uri": "https://localhost:8080/"
        },
        "id": "DA8bb-E9mEhn",
        "outputId": "bfbfdb16-2f57-4464-d70d-0115709e04c3"
      },
      "source": [
        "import time\n",
        "\n",
        "time.time()"
      ],
      "execution_count": null,
      "outputs": [
        {
          "output_type": "execute_result",
          "data": {
            "text/plain": [
              "1623828917.5039914"
            ]
          },
          "metadata": {
            "tags": []
          },
          "execution_count": 16
        }
      ]
    },
    {
      "cell_type": "code",
      "metadata": {
        "id": "W1fwlVs2n2S8"
      },
      "source": [
        "model.save('3x3x64-banvsunban.model')"
      ],
      "execution_count": null,
      "outputs": []
    },
    {
      "cell_type": "code",
      "metadata": {
        "id": "7BPqvaZZoH41"
      },
      "source": [
        "!unzip bantest.zip -d 'test/ban/'"
      ],
      "execution_count": null,
      "outputs": []
    },
    {
      "cell_type": "code",
      "metadata": {
        "id": "vjLIMWVmoZqH"
      },
      "source": [
        "!unzip unbantest.zip -d 'test/unban/'"
      ],
      "execution_count": null,
      "outputs": []
    },
    {
      "cell_type": "code",
      "metadata": {
        "id": "g9UNAWcgoo02"
      },
      "source": [
        "# mình làm predict ở đây nha\n",
        "import cv2\n",
        "import keras\n",
        "import numpy as np\n",
        "from keras.preprocessing import image\n",
        "from os import listdir\n",
        "from os.path import isfile, join\n",
        "\n",
        "\n",
        "CATEGORIES = ['ban', 'unban']\n",
        "\n",
        "\n",
        "def image(path):\n",
        "    img = cv2.imread(path, cv2.IMREAD_GRAYSCALE)\n",
        "    new_arr = cv2.resize(img, (60, 60))\n",
        "    new_arr = np.array(new_arr)\n",
        "    new_arr = new_arr.reshape(-1, 60, 60, 1)\n",
        "    return new_arr\n",
        "\n",
        "model = keras.models.load_model('3x3x64-banvsunban.model')\n",
        "\n"
      ],
      "execution_count": null,
      "outputs": []
    },
    {
      "cell_type": "code",
      "metadata": {
        "id": "i_oND-WXpBNX"
      },
      "source": [
        "\n",
        "prediction = model.predict([image('test/predict_small/ban2.jpg')])\n",
        "print(CATEGORIES[prediction.argmax()])"
      ],
      "execution_count": null,
      "outputs": []
    },
    {
      "cell_type": "code",
      "metadata": {
        "id": "oxHVWHDgqqXF"
      },
      "source": [
        ""
      ],
      "execution_count": null,
      "outputs": []
    },
    {
      "cell_type": "code",
      "metadata": {
        "id": "hYBzc3bXx_hU"
      },
      "source": [
        "DIRECTORY_Test = r'test'\n",
        "CATEGORIES_Test =  ['ban','unban']"
      ],
      "execution_count": null,
      "outputs": []
    },
    {
      "cell_type": "code",
      "metadata": {
        "id": "ibzBTRYByJOy"
      },
      "source": [
        "data_test = []\n",
        "for category in CATEGORIES_Test:\n",
        "    path = os.path.join(DIRECTORY_Test, category)\n",
        "    for img in os.listdir(path):\n",
        "        img_path = os.path.join(path, img)\n",
        "        label = CATEGORIES_Test.index(category)\n",
        "\n",
        "        data_test.append([img,label])\n",
        "random.shuffle(data_test)       \n",
        "print(data_test[:3])  \n",
        "print(len(data_test))\n",
        "for i in range(len(data_test)-1000):\n",
        "  print(data_test[i][1])      "
      ],
      "execution_count": null,
      "outputs": []
    },
    {
      "cell_type": "code",
      "metadata": {
        "id": "m8dCZWmt0sYe"
      },
      "source": [
        "!unzip bantest.zip -d 'test/predict/'"
      ],
      "execution_count": null,
      "outputs": []
    },
    {
      "cell_type": "code",
      "metadata": {
        "id": "zIWJ2cHa0uRg"
      },
      "source": [
        "!unzip unbantest.zip -d 'test/predict/'"
      ],
      "execution_count": null,
      "outputs": []
    },
    {
      "cell_type": "code",
      "metadata": {
        "id": "iR-lLN6L10N9"
      },
      "source": [
        "data_test_size = len(data_test) \n",
        "#data_test_size = data_test_size - 980\n",
        "acc =0 \n",
        "mypath = \"test/predict/\"\n",
        "onlyfiles = [f for f in listdir(mypath) if isfile(join(mypath, f))]\n",
        "print(onlyfiles)\n",
        "for i in range(len(data_test)):\n",
        "  link = join(mypath,data_test[i][0])\n",
        "  prediction = model.predict([image(link)])\n",
        "  if prediction.argmax() == data_test[i][1]:\n",
        "    acc = acc+1\n",
        "    #print(prediction.argmax())\n",
        "    #print(data_test[i][1])\n",
        "  #print(CATEGORIES_Test[prediction.argmax()])\n",
        "\n",
        "print(\"Predict Accuracy = \", 100*float(acc/data_test_size))  "
      ],
      "execution_count": null,
      "outputs": []
    },
    {
      "cell_type": "markdown",
      "metadata": {
        "id": "idXvOCtzCUVQ"
      },
      "source": [
        ""
      ]
    },
    {
      "cell_type": "markdown",
      "metadata": {
        "id": "LerhOYTwqBmz"
      },
      "source": [
        ""
      ]
    },
    {
      "cell_type": "code",
      "metadata": {
        "colab": {
          "base_uri": "https://localhost:8080/"
        },
        "id": "zrMh2Zxb5lO6",
        "outputId": "1a03774a-af01-4662-a225-eb50a2f536a2"
      },
      "source": [
        ""
      ],
      "execution_count": null,
      "outputs": [
        {
          "output_type": "execute_result",
          "data": {
            "text/plain": [
              "True"
            ]
          },
          "metadata": {
            "tags": []
          },
          "execution_count": 48
        }
      ]
    },
    {
      "cell_type": "code",
      "metadata": {
        "id": "Zaq4wRvC5mXz"
      },
      "source": [
        ""
      ],
      "execution_count": null,
      "outputs": []
    }
  ]
}