{
  "nbformat": 4,
  "nbformat_minor": 0,
  "metadata": {
    "colab": {
      "name": "Copy of Untitled3.ipynb",
      "provenance": [],
      "collapsed_sections": [],
      "include_colab_link": true
    },
    "kernelspec": {
      "name": "python3",
      "display_name": "Python 3"
    },
    "language_info": {
      "name": "python"
    }
  },
  "cells": [
    {
      "cell_type": "markdown",
      "metadata": {
        "id": "view-in-github",
        "colab_type": "text"
      },
      "source": [
        "<a href=\"https://colab.research.google.com/github/baoloc97/Data-science/blob/main/Image_Classfication_BanProduct.ipynb\" target=\"_parent\"><img src=\"https://colab.research.google.com/assets/colab-badge.svg\" alt=\"Open In Colab\"/></a>"
      ]
    },
    {
      "cell_type": "code",
      "metadata": {
        "id": "NtgwP-2CF2Nj"
      },
      "source": [
        "#Những điều cần làm trước khi chạy\n",
        "# install \"pandas\",\n",
        "#         \"numpy\",\n",
        "#         \"matplotlib\",\n",
        "#         \"openpyxl\",\n",
        "#         \"opencv-python\",\n",
        "#         \"keras\",\n",
        "#         \"absl-py 0.12.0\"\n",
        "#         \"pickle-mixin 1.0.2\"\n",
        "\n",
        "# tạo thư mục train có 2 thư mục nhỏ là ban và unban\n",
        "# tạo thư mục test có 3 thư mục nhỏ là ban , unban và predict\n",
        "# Chạy file Preprocessing.py trước để preprocessing data trong thư mục train sau đó đưa về ma trận và đóng gói dữ liệu = pickle\n",
        "# Chạy xong Preprocessing.py ta sẽ có 2 file X.pkl và y.pkl, X.pkl chứa dữ liệu hình và y.pkl chứa label của hình\n",
        "# Tiếp theo chạy file Train.py để train model. Sau khi train xong sẽ có  model 3x3x64-banvsunban.model\n",
        "# Chạy file predict.py. Thì sẽ lây hình ở test/ban đánh số 0 và test/unban đánh số 1. sau đó suffer lên rồi đổ hết hình qua test/predict\n",
        "# Sau khi predict xong thì ta sẽ có được accuracy của model do so sánh với dữ liệu ta đã đánh số từ trước.\n",
        "# File Final_predict.py dùng để predict 1 hình input là đường dẫn của hình output là 1 dictionary {'ban': 6.488902e-17, 'unban': 1.0}"
      ],
      "execution_count": null,
      "outputs": []
    },
    {
      "cell_type": "code",
      "metadata": {
        "id": "GxDrHL1vpiWL"
      },
      "source": [
        "!unzip Ban_product.zip -d 'train/ban/'"
      ],
      "execution_count": null,
      "outputs": []
    },
    {
      "cell_type": "code",
      "metadata": {
        "id": "NZ5KdV4g9LrJ"
      },
      "source": [
        "!unzip Unban_product.zip -d 'train/unban/'"
      ],
      "execution_count": null,
      "outputs": []
    },
    {
      "cell_type": "code",
      "metadata": {
        "id": "TN0eEFOtQPD_"
      },
      "source": [
        "!unzip Test_ban.zip -d 'test/ban/'"
      ],
      "execution_count": null,
      "outputs": []
    },
    {
      "cell_type": "code",
      "metadata": {
        "id": "fQFrQUHZQWuG"
      },
      "source": [
        "!unzip Test_unban.zip -d 'test/unban/'"
      ],
      "execution_count": null,
      "outputs": []
    },
    {
      "cell_type": "code",
      "metadata": {
        "id": "_clAK5-cQmGI"
      },
      "source": [
        "!unzip Test.zip -d 'test/predict'"
      ],
      "execution_count": null,
      "outputs": []
    },
    {
      "cell_type": "code",
      "metadata": {
        "id": "cnQu9qjMricG"
      },
      "source": [
        "import numpy as np \n",
        "import cv2\n",
        "import os\n",
        "import random\n",
        "import matplotlib.pyplot as plt \n",
        "import pickle\n"
      ],
      "execution_count": 22,
      "outputs": []
    },
    {
      "cell_type": "code",
      "metadata": {
        "id": "1AVYIdBgsHEe"
      },
      "source": [
        "DIRECTORY = r'train'\n",
        "CATEGORIES =  ['ban','unban']\n"
      ],
      "execution_count": 23,
      "outputs": []
    },
    {
      "cell_type": "code",
      "metadata": {
        "id": "V7aKqq3DFSlk"
      },
      "source": [
        "IMG_SIZE = 60\n",
        "data = []\n",
        "\n",
        "for category in CATEGORIES:\n",
        "    path = os.path.join(DIRECTORY, category)\n",
        "    for img in os.listdir(path):\n",
        "        img_path = os.path.join(path, img)\n",
        "        label = CATEGORIES.index(category)\n",
        "        arr = cv2.imread(img_path, cv2.IMREAD_GRAYSCALE)\n",
        "        new_arr = cv2.resize(arr, (IMG_SIZE, IMG_SIZE))\n",
        "        data.append([new_arr, label])"
      ],
      "execution_count": 24,
      "outputs": []
    },
    {
      "cell_type": "code",
      "metadata": {
        "id": "MJxkLmM8wQtv"
      },
      "source": [
        "random.shuffle(data)"
      ],
      "execution_count": 25,
      "outputs": []
    },
    {
      "cell_type": "code",
      "metadata": {
        "colab": {
          "base_uri": "https://localhost:8080/"
        },
        "id": "MB6tlYWJwlG2",
        "outputId": "09bead82-1bb6-4f8f-b492-995591adf07c"
      },
      "source": [
        "X = []\n",
        "y = []\n",
        "for features, labels in data:\n",
        "\tX.append(features)\n",
        "\ty.append(labels)\n",
        "\n",
        "X = np.array(X)\n",
        "y = np.array(y)\n",
        "\n",
        "print(X[0])"
      ],
      "execution_count": 26,
      "outputs": [
        {
          "output_type": "stream",
          "text": [
            "[[255 255 255 ... 255 255 255]\n",
            " [255 255 255 ... 255 255 255]\n",
            " [255 255 255 ... 255 255 255]\n",
            " ...\n",
            " [255 255 255 ... 204 204 205]\n",
            " [255 255 255 ... 204 204 205]\n",
            " [255 255 255 ... 252 202 204]]\n"
          ],
          "name": "stdout"
        }
      ]
    },
    {
      "cell_type": "code",
      "metadata": {
        "id": "N2C-Ctg74mfb"
      },
      "source": [
        "pickle.dump(X,open('X.pkl','wb'))\n",
        "pickle.dump(y,open('y.pkl','wb'))"
      ],
      "execution_count": 27,
      "outputs": []
    },
    {
      "cell_type": "code",
      "metadata": {
        "id": "Wb21egzPwuEF"
      },
      "source": [
        "import pickle\n",
        "import keras\n",
        "from keras import models\n",
        "from keras.models import Sequential\n",
        "from keras.layers import Conv2D,MaxPool2D,Flatten,Dense,Dropout\n",
        "import keras.losses\n",
        "keras.losses.custom_loss = 'spare_categorical_crossentrop'\n",
        "X = pickle.load(open('X.pkl','rb'))\n",
        "y = pickle.load(open('y.pkl','rb'))\n",
        "\n",
        "IMG_SIZE = 60 "
      ],
      "execution_count": 28,
      "outputs": []
    },
    {
      "cell_type": "code",
      "metadata": {
        "id": "9xiJSvzEz_Bp"
      },
      "source": [
        "X = X/255\n"
      ],
      "execution_count": 29,
      "outputs": []
    },
    {
      "cell_type": "code",
      "metadata": {
        "id": "_mGzjUGl36US"
      },
      "source": [
        "#y = np.asarray(y).astype('float32').reshape((1,-1))"
      ],
      "execution_count": null,
      "outputs": []
    },
    {
      "cell_type": "code",
      "metadata": {
        "colab": {
          "base_uri": "https://localhost:8080/"
        },
        "id": "69qTzdQZ3w4o",
        "outputId": "ade36505-47a8-48ee-8ded-457cfeea8df3"
      },
      "source": [
        "print(X.shape)\n",
        "print(y.shape)"
      ],
      "execution_count": 30,
      "outputs": [
        {
          "output_type": "stream",
          "text": [
            "(142, 60, 60)\n",
            "(142,)\n"
          ],
          "name": "stdout"
        }
      ]
    },
    {
      "cell_type": "code",
      "metadata": {
        "id": "mefLQjENGfi2"
      },
      "source": [
        "X = X.reshape(-1, IMG_SIZE, IMG_SIZE, 1) #img_size phải trùng với img_size lúc preprocessing"
      ],
      "execution_count": 31,
      "outputs": []
    },
    {
      "cell_type": "code",
      "metadata": {
        "id": "mE55FItHGvF6"
      },
      "source": [
        "#Ở đây Dùng CNN ~ 64%, google net, effecient net work better ~ 76%\n",
        "model = Sequential()\n",
        "\n",
        "model.add(Conv2D(64, (3,3), activation = 'relu'))\n",
        "model.add(MaxPool2D((2,2)))\n",
        "\n",
        "model.add(Conv2D(64, (3,3), activation = 'relu'))\n",
        "model.add(MaxPool2D((2,2)))\n",
        "\n",
        "model.add(Flatten())\n",
        "\n",
        "model.add(Dense(128, input_shape = X.shape[1:], activation = 'relu'))\n",
        "model.add(Dropout(0.4))\n",
        "model.add(Dense(2, activation = 'softmax'))"
      ],
      "execution_count": 67,
      "outputs": []
    },
    {
      "cell_type": "code",
      "metadata": {
        "id": "WJ3yOnWxG8N7"
      },
      "source": [
        "model.compile(optimizer='adam',\n",
        "              loss='sparse_categorical_crossentropy',\n",
        "              metrics=['accuracy'])"
      ],
      "execution_count": 69,
      "outputs": []
    },
    {
      "cell_type": "code",
      "metadata": {
        "id": "5jeFJvnIHBmf"
      },
      "source": [
        "model.fit(X, y, epochs=10, validation_split=0.2,batch_size=32)"
      ],
      "execution_count": null,
      "outputs": []
    },
    {
      "cell_type": "code",
      "metadata": {
        "colab": {
          "base_uri": "https://localhost:8080/"
        },
        "id": "DA8bb-E9mEhn",
        "outputId": "4a43ded3-014c-4822-a97f-2631e18c6d06"
      },
      "source": [
        "import time # tính thời gian train\n",
        "\n",
        "time.time()"
      ],
      "execution_count": 43,
      "outputs": [
        {
          "output_type": "execute_result",
          "data": {
            "text/plain": [
              "1626081247.6913338"
            ]
          },
          "metadata": {
            "tags": []
          },
          "execution_count": 43
        }
      ]
    },
    {
      "cell_type": "code",
      "metadata": {
        "id": "W1fwlVs2n2S8",
        "outputId": "6fb2fcbc-6741-41c2-cc06-72806cdfc574",
        "colab": {
          "base_uri": "https://localhost:8080/"
        }
      },
      "source": [
        "model.save('3x3x64-banvsunban.model')"
      ],
      "execution_count": 44,
      "outputs": [
        {
          "output_type": "stream",
          "text": [
            "INFO:tensorflow:Assets written to: 3x3x64-banvsunban.model/assets\n"
          ],
          "name": "stdout"
        }
      ]
    },
    {
      "cell_type": "code",
      "metadata": {
        "id": "7BPqvaZZoH41"
      },
      "source": [
        "!unzip Test.zip -d 'test/predict/'"
      ],
      "execution_count": null,
      "outputs": []
    },
    {
      "cell_type": "code",
      "metadata": {
        "id": "vjLIMWVmoZqH"
      },
      "source": [
        "!unzip unbantest.zip -d 'test/unban/'"
      ],
      "execution_count": null,
      "outputs": []
    },
    {
      "cell_type": "code",
      "metadata": {
        "id": "g9UNAWcgoo02"
      },
      "source": [
        "# mình làm predict ở đây nha\n",
        "import cv2\n",
        "import keras\n",
        "import numpy as np\n",
        "from keras.preprocessing import image\n",
        "from os import listdir\n",
        "from os.path import isfile, join\n",
        "\n",
        "\n",
        "CATEGORIES = ['ban', 'unban']\n",
        "\n",
        "\n",
        "def image(path):\n",
        "    img = cv2.imread(path, cv2.IMREAD_GRAYSCALE)\n",
        "    new_arr = cv2.resize(img, (60, 60))\n",
        "    new_arr = np.array(new_arr)\n",
        "    new_arr = new_arr.reshape(-1, 60, 60, 1)\n",
        "    return new_arr\n",
        "\n",
        "model = keras.models.load_model('3x3x64-banvsunban.model')\n",
        "\n"
      ],
      "execution_count": 47,
      "outputs": []
    },
    {
      "cell_type": "code",
      "metadata": {
        "id": "i_oND-WXpBNX",
        "outputId": "a16dba0f-8376-40a0-fca7-0ef700da891f",
        "colab": {
          "base_uri": "https://localhost:8080/"
        }
      },
      "source": [
        "path ='test/predict/11.jpg'\n",
        "try:\n",
        "  picture = [image(path)]\n",
        "except Exception as e:\n",
        "  print('Image Error')\n",
        "\n",
        "prediction = model.predict(picture)\n",
        "print(CATEGORIES[prediction.argmax()])\n",
        "\n",
        "Final_result = {\n",
        "  \"ban\": prediction[0][0],\n",
        "  \"unban\": prediction[0][1]\n",
        "}\n",
        "print(Final_result) "
      ],
      "execution_count": 79,
      "outputs": [
        {
          "output_type": "stream",
          "text": [
            "unban\n",
            "{'ban': 6.488902e-17, 'unban': 1.0}\n"
          ],
          "name": "stdout"
        }
      ]
    },
    {
      "cell_type": "code",
      "metadata": {
        "id": "oxHVWHDgqqXF"
      },
      "source": [
        ""
      ],
      "execution_count": null,
      "outputs": []
    },
    {
      "cell_type": "code",
      "metadata": {
        "id": "hYBzc3bXx_hU"
      },
      "source": [
        "DIRECTORY_Test = r'test'\n",
        "CATEGORIES_Test =  ['ban','unban']"
      ],
      "execution_count": 48,
      "outputs": []
    },
    {
      "cell_type": "code",
      "metadata": {
        "id": "ibzBTRYByJOy",
        "outputId": "9c8e339a-f971-4cf4-addd-2a597e8ff3b4",
        "colab": {
          "base_uri": "https://localhost:8080/"
        }
      },
      "source": [
        "data_test = []\n",
        "for category in CATEGORIES_Test:\n",
        "    path = os.path.join(DIRECTORY_Test, category)\n",
        "    for img in os.listdir(path):\n",
        "        img_path = os.path.join(path, img)\n",
        "        label = CATEGORIES_Test.index(category)\n",
        "\n",
        "        data_test.append([img,label])\n",
        "random.shuffle(data_test)       \n",
        "print(data_test[:3])  \n",
        "print(len(data_test))\n",
        "for i in range(len(data_test)-1000):\n",
        "  print(data_test[i][1])      "
      ],
      "execution_count": 52,
      "outputs": [
        {
          "output_type": "stream",
          "text": [
            "[['979.jpg', 0], ['24.jpg', 0], ['34.jpg', 1]]\n",
            "142\n"
          ],
          "name": "stdout"
        }
      ]
    },
    {
      "cell_type": "code",
      "metadata": {
        "id": "m8dCZWmt0sYe"
      },
      "source": [
        "!unzip bantest.zip -d 'test/predict/'"
      ],
      "execution_count": null,
      "outputs": []
    },
    {
      "cell_type": "code",
      "metadata": {
        "id": "zIWJ2cHa0uRg"
      },
      "source": [
        "!unzip unbantest.zip -d 'test/predict/'"
      ],
      "execution_count": null,
      "outputs": []
    },
    {
      "cell_type": "code",
      "metadata": {
        "id": "iR-lLN6L10N9"
      },
      "source": [
        "data_test_size = len(data_test) \n",
        "#data_test_size = data_test_size - 980\n",
        "acc =0 \n",
        "mypath = \"test/predict/\"\n",
        "onlyfiles = [f for f in listdir(mypath) if isfile(join(mypath, f))]\n",
        "print(onlyfiles)\n",
        "for i in range(len(data_test)):\n",
        "  link = join(mypath,data_test[i][0])\n",
        "  prediction = model.predict([image(link)])\n",
        "  for i in range(len([image(link)])):\n",
        "\t  print(\"X=%s, Predicted=%s\" % ([image(link)][i], prediction[i]))\n",
        "  if prediction.argmax() == data_test[i][1]:\n",
        "    acc = acc+1\n",
        "    #print(prediction.argmax())\n",
        "    #print(data_test[i][1])\n",
        "  #print(CATEGORIES_Test[prediction.argmax()])\n",
        "\n",
        "print(\"Predict Accuracy = \", 100*float(acc/data_test_size))  "
      ],
      "execution_count": null,
      "outputs": []
    },
    {
      "cell_type": "code",
      "metadata": {
        "id": "nfDhXZZlA4Ks"
      },
      "source": [
        "ynew = model.predict_classes(Xnew)\n",
        "# show the inputs and predicted outputs\n",
        "for i in range(len(Xnew)):\n",
        "\tprint(\"X=%s, Predicted=%s\" % (Xnew[i], ynew[i]))"
      ],
      "execution_count": null,
      "outputs": []
    },
    {
      "cell_type": "markdown",
      "metadata": {
        "id": "idXvOCtzCUVQ"
      },
      "source": [
        ""
      ]
    },
    {
      "cell_type": "markdown",
      "metadata": {
        "id": "LerhOYTwqBmz"
      },
      "source": [
        ""
      ]
    },
    {
      "cell_type": "code",
      "metadata": {
        "id": "zrMh2Zxb5lO6"
      },
      "source": [
        "rm -rf 3x3x64-banvsunban.model"
      ],
      "execution_count": 83,
      "outputs": []
    },
    {
      "cell_type": "code",
      "metadata": {
        "id": "Zaq4wRvC5mXz"
      },
      "source": [
        "!python3 Finalpredict.py\n"
      ],
      "execution_count": null,
      "outputs": []
    },
    {
      "cell_type": "code",
      "metadata": {
        "id": "mMFaY7LLOuo2",
        "outputId": "8e260e6b-9da4-4cd5-c426-2ad603fd801f",
        "colab": {
          "base_uri": "https://localhost:8080/"
        }
      },
      "source": [
        "!python3 Preprocess.py"
      ],
      "execution_count": 84,
      "outputs": [
        {
          "output_type": "stream",
          "text": [
            "[[255 255 255 ... 255 255 255]\n",
            " [255 255 255 ... 255 255 255]\n",
            " [255 255 255 ... 255 255 255]\n",
            " ...\n",
            " [255 255 255 ... 255 255 255]\n",
            " [255 255 255 ... 255 255 255]\n",
            " [255 255 255 ... 255 255 255]]\n"
          ],
          "name": "stdout"
        }
      ]
    },
    {
      "cell_type": "code",
      "metadata": {
        "id": "r_rsIzcnV-Bw",
        "outputId": "adfae3e8-9a78-405c-8aa7-b406180fce71",
        "colab": {
          "base_uri": "https://localhost:8080/"
        }
      },
      "source": [
        "!python3 Train.py"
      ],
      "execution_count": 85,
      "outputs": [
        {
          "output_type": "stream",
          "text": [
            "2021-07-12 10:51:39.392414: I tensorflow/stream_executor/platform/default/dso_loader.cc:53] Successfully opened dynamic library libcudart.so.11.0\n",
            "(142, 60, 60)\n",
            "(142,)\n",
            "2021-07-12 10:51:41.225502: I tensorflow/stream_executor/platform/default/dso_loader.cc:53] Successfully opened dynamic library libcuda.so.1\n",
            "2021-07-12 10:51:41.236818: E tensorflow/stream_executor/cuda/cuda_driver.cc:328] failed call to cuInit: CUDA_ERROR_NO_DEVICE: no CUDA-capable device is detected\n",
            "2021-07-12 10:51:41.236874: I tensorflow/stream_executor/cuda/cuda_diagnostics.cc:156] kernel driver does not appear to be running on this host (669d1ebe3f96): /proc/driver/nvidia/version does not exist\n",
            "2021-07-12 10:51:41.776535: I tensorflow/compiler/mlir/mlir_graph_optimization_pass.cc:176] None of the MLIR Optimization Passes are enabled (registered 2)\n",
            "2021-07-12 10:51:41.777112: I tensorflow/core/platform/profile_utils/cpu_utils.cc:114] CPU Frequency: 2299995000 Hz\n",
            "4/4 [==============================] - 23s 378ms/step - loss: 0.9617 - accuracy: 0.4085 - val_loss: 0.7336 - val_accuracy: 0.4419\n",
            "2021-07-12 10:52:06.415734: W tensorflow/python/util/util.cc:348] Sets are not currently considered sequences, but this may change in the future, so consider avoiding using them.\n"
          ],
          "name": "stdout"
        }
      ]
    },
    {
      "cell_type": "code",
      "metadata": {
        "id": "czD-MwwfWRE6",
        "outputId": "439600ac-b4bf-4c5c-b65e-94a9aa9d91be",
        "colab": {
          "base_uri": "https://localhost:8080/"
        }
      },
      "source": [
        "!python3 Finalpredict.py"
      ],
      "execution_count": 86,
      "outputs": [
        {
          "output_type": "stream",
          "text": [
            "2021-07-12 10:53:00.460766: I tensorflow/stream_executor/platform/default/dso_loader.cc:53] Successfully opened dynamic library libcudart.so.11.0\n",
            "2021-07-12 10:53:02.343745: I tensorflow/stream_executor/platform/default/dso_loader.cc:53] Successfully opened dynamic library libcuda.so.1\n",
            "2021-07-12 10:53:02.355682: E tensorflow/stream_executor/cuda/cuda_driver.cc:328] failed call to cuInit: CUDA_ERROR_NO_DEVICE: no CUDA-capable device is detected\n",
            "2021-07-12 10:53:02.355738: I tensorflow/stream_executor/cuda/cuda_diagnostics.cc:156] kernel driver does not appear to be running on this host (669d1ebe3f96): /proc/driver/nvidia/version does not exist\n",
            "2021-07-12 10:53:03.279580: I tensorflow/compiler/mlir/mlir_graph_optimization_pass.cc:176] None of the MLIR Optimization Passes are enabled (registered 2)\n",
            "2021-07-12 10:53:03.280025: I tensorflow/core/platform/profile_utils/cpu_utils.cc:114] CPU Frequency: 2299995000 Hz\n",
            "{'ban': 0.0, 'unban': 1.0}\n"
          ],
          "name": "stdout"
        }
      ]
    },
    {
      "cell_type": "code",
      "metadata": {
        "id": "bMoZhd30Wcof",
        "outputId": "50045b1e-301f-4e10-ee28-146f627f1f38",
        "colab": {
          "base_uri": "https://localhost:8080/"
        }
      },
      "source": [
        "!python3 Predict.py"
      ],
      "execution_count": 87,
      "outputs": [
        {
          "output_type": "stream",
          "text": [
            "2021-07-12 10:53:46.050994: I tensorflow/stream_executor/platform/default/dso_loader.cc:53] Successfully opened dynamic library libcudart.so.11.0\n",
            "2021-07-12 10:53:47.907528: I tensorflow/stream_executor/platform/default/dso_loader.cc:53] Successfully opened dynamic library libcuda.so.1\n",
            "2021-07-12 10:53:47.919641: E tensorflow/stream_executor/cuda/cuda_driver.cc:328] failed call to cuInit: CUDA_ERROR_NO_DEVICE: no CUDA-capable device is detected\n",
            "2021-07-12 10:53:47.919698: I tensorflow/stream_executor/cuda/cuda_diagnostics.cc:156] kernel driver does not appear to be running on this host (669d1ebe3f96): /proc/driver/nvidia/version does not exist\n",
            "2021-07-12 10:53:48.885809: I tensorflow/compiler/mlir/mlir_graph_optimization_pass.cc:176] None of the MLIR Optimization Passes are enabled (registered 2)\n",
            "2021-07-12 10:53:48.886305: I tensorflow/core/platform/profile_utils/cpu_utils.cc:114] CPU Frequency: 2299995000 Hz\n",
            "Predict Accuracy =  50.0\n",
            "So hinh doc duoc  71\n",
            "So hinh ko doc duoc 0\n"
          ],
          "name": "stdout"
        }
      ]
    },
    {
      "cell_type": "code",
      "metadata": {
        "id": "MqaWWMUwWUS4"
      },
      "source": [
        ""
      ],
      "execution_count": null,
      "outputs": []
    }
  ]
}