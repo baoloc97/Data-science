{
  "nbformat": 4,
  "nbformat_minor": 0,
  "metadata": {
    "colab": {
      "name": "Untitled16.ipynb",
      "provenance": [],
      "collapsed_sections": [],
      "authorship_tag": "ABX9TyP/wxU5c1Z9ZsRTNvU0LyRD",
      "include_colab_link": true
    },
    "kernelspec": {
      "name": "python3",
      "display_name": "Python 3"
    },
    "language_info": {
      "name": "python"
    }
  },
  "cells": [
    {
      "cell_type": "markdown",
      "metadata": {
        "id": "view-in-github",
        "colab_type": "text"
      },
      "source": [
        "<a href=\"https://colab.research.google.com/github/baoloc97/Data-science/blob/main/Tokenize_vietnam.ipynb\" target=\"_parent\"><img src=\"https://colab.research.google.com/assets/colab-badge.svg\" alt=\"Open In Colab\"/></a>"
      ]
    },
    {
      "cell_type": "code",
      "metadata": {
        "colab": {
          "base_uri": "https://localhost:8080/"
        },
        "id": "aIJIaZ5l7nrc",
        "outputId": "2fda92e9-a174-4ec6-e92c-b99d2244fec4"
      },
      "source": [
        "pip install pyvi"
      ],
      "execution_count": null,
      "outputs": [
        {
          "output_type": "stream",
          "text": [
            "Collecting pyvi\n",
            "  Downloading pyvi-0.1.1-py2.py3-none-any.whl (8.5 MB)\n",
            "\u001b[K     |████████████████████████████████| 8.5 MB 4.5 MB/s \n",
            "\u001b[?25hRequirement already satisfied: scikit-learn in /usr/local/lib/python3.7/dist-packages (from pyvi) (0.22.2.post1)\n",
            "Collecting sklearn-crfsuite\n",
            "  Downloading sklearn_crfsuite-0.3.6-py2.py3-none-any.whl (12 kB)\n",
            "Requirement already satisfied: joblib>=0.11 in /usr/local/lib/python3.7/dist-packages (from scikit-learn->pyvi) (1.0.1)\n",
            "Requirement already satisfied: numpy>=1.11.0 in /usr/local/lib/python3.7/dist-packages (from scikit-learn->pyvi) (1.19.5)\n",
            "Requirement already satisfied: scipy>=0.17.0 in /usr/local/lib/python3.7/dist-packages (from scikit-learn->pyvi) (1.4.1)\n",
            "Requirement already satisfied: tqdm>=2.0 in /usr/local/lib/python3.7/dist-packages (from sklearn-crfsuite->pyvi) (4.62.0)\n",
            "Requirement already satisfied: six in /usr/local/lib/python3.7/dist-packages (from sklearn-crfsuite->pyvi) (1.15.0)\n",
            "Collecting python-crfsuite>=0.8.3\n",
            "  Downloading python_crfsuite-0.9.7-cp37-cp37m-manylinux1_x86_64.whl (743 kB)\n",
            "\u001b[K     |████████████████████████████████| 743 kB 50.1 MB/s \n",
            "\u001b[?25hRequirement already satisfied: tabulate in /usr/local/lib/python3.7/dist-packages (from sklearn-crfsuite->pyvi) (0.8.9)\n",
            "Installing collected packages: python-crfsuite, sklearn-crfsuite, pyvi\n",
            "Successfully installed python-crfsuite-0.9.7 pyvi-0.1.1 sklearn-crfsuite-0.3.6\n"
          ],
          "name": "stdout"
        }
      ]
    },
    {
      "cell_type": "code",
      "metadata": {
        "colab": {
          "base_uri": "https://localhost:8080/"
        },
        "id": "vBHRpiHYPmaw",
        "outputId": "58c020b0-6192-40ab-b511-ad2b76735861"
      },
      "source": [
        "ls "
      ],
      "execution_count": null,
      "outputs": [
        {
          "output_type": "stream",
          "text": [
            "m.model  \u001b[0m\u001b[01;34mopen-NMT-test\u001b[0m/  train_en.txt           train_vi.txt\n",
            "m.vocab  \u001b[01;34msample_data\u001b[0m/    train_vi_tokenize.txt\n"
          ],
          "name": "stdout"
        }
      ]
    },
    {
      "cell_type": "code",
      "metadata": {
        "id": "ZtT3B6AZAECX"
      },
      "source": [
        "from pyvi import ViTokenizer, ViPosTagger\n",
        "\n"
      ],
      "execution_count": null,
      "outputs": []
    },
    {
      "cell_type": "code",
      "metadata": {
        "colab": {
          "base_uri": "https://localhost:8080/",
          "height": 35
        },
        "id": "AfTrFMRtAFjR",
        "outputId": "a26b9285-419f-499c-c909-dbb9a2fdf3f8"
      },
      "source": [
        "ViTokenizer.tokenize(u\"Trường đại học bách khoa hà nội\")"
      ],
      "execution_count": null,
      "outputs": [
        {
          "output_type": "execute_result",
          "data": {
            "application/vnd.google.colaboratory.intrinsic+json": {
              "type": "string"
            },
            "text/plain": [
              "'Trường đại_học bách_khoa hà_nội'"
            ]
          },
          "metadata": {
            "tags": []
          },
          "execution_count": 56
        }
      ]
    },
    {
      "cell_type": "code",
      "metadata": {
        "colab": {
          "base_uri": "https://localhost:8080/"
        },
        "id": "UHfvVZuxATDH",
        "outputId": "de15affe-5413-486f-96d9-e98408fabecd"
      },
      "source": [
        "ViPosTagger.postagging(ViTokenizer.tokenize(u\"Trường đại học Bách Khoa Hà Nội\"))"
      ],
      "execution_count": null,
      "outputs": [
        {
          "output_type": "execute_result",
          "data": {
            "text/plain": [
              "(['Trường', 'đại_học', 'Bách_Khoa', 'Hà_Nội'], ['N', 'N', 'Np', 'Np'])"
            ]
          },
          "metadata": {
            "tags": []
          },
          "execution_count": 58
        }
      ]
    },
    {
      "cell_type": "code",
      "metadata": {
        "id": "oWrDkHyKAYrD"
      },
      "source": [
        ""
      ],
      "execution_count": null,
      "outputs": []
    },
    {
      "cell_type": "code",
      "metadata": {
        "colab": {
          "base_uri": "https://localhost:8080/"
        },
        "id": "vPnVL-_XAlpL",
        "outputId": "2e79895c-e10f-4b88-9017-fe70a3dd9ee8"
      },
      "source": [
        "from pyvi import ViUtils\n",
        "ViUtils.remove_accents(u\"Trường đại học bách khoa hà nội\")"
      ],
      "execution_count": null,
      "outputs": [
        {
          "output_type": "execute_result",
          "data": {
            "text/plain": [
              "b'Truong dai hoc bach khoa ha noi'"
            ]
          },
          "metadata": {
            "tags": []
          },
          "execution_count": 59
        }
      ]
    },
    {
      "cell_type": "code",
      "metadata": {
        "colab": {
          "base_uri": "https://localhost:8080/",
          "height": 35
        },
        "id": "_8bbYda4Amld",
        "outputId": "966ed106-02cd-4098-b831-4d871328417b"
      },
      "source": [
        "from pyvi import ViUtils\n",
        "ViUtils.add_accents(u'truong dai hoc bach khoa ha noi')"
      ],
      "execution_count": null,
      "outputs": [
        {
          "output_type": "execute_result",
          "data": {
            "application/vnd.google.colaboratory.intrinsic+json": {
              "type": "string"
            },
            "text/plain": [
              "'Trường Đại học Bách Khoa hà nội'"
            ]
          },
          "metadata": {
            "tags": []
          },
          "execution_count": 60
        }
      ]
    },
    {
      "cell_type": "code",
      "metadata": {
        "id": "qJt6IO84AwPf"
      },
      "source": [
        "import pandas as pd"
      ],
      "execution_count": null,
      "outputs": []
    },
    {
      "cell_type": "code",
      "metadata": {
        "id": "OZ-x9aaR7iac"
      },
      "source": [
        "f = open('train_vi.txt')\n",
        "f1 = open('train_vi_tokenize.txt','a')"
      ],
      "execution_count": null,
      "outputs": []
    },
    {
      "cell_type": "code",
      "metadata": {
        "id": "osCOZAHA7nI0"
      },
      "source": [
        "while(True):\n",
        "  line = f.readline()\n",
        "  if not line:\n",
        "    break\n",
        "  f1.write(ViTokenizer.tokenize(line))\n",
        "\n",
        "\n",
        "\n",
        "\n"
      ],
      "execution_count": null,
      "outputs": []
    },
    {
      "cell_type": "code",
      "metadata": {
        "colab": {
          "base_uri": "https://localhost:8080/"
        },
        "id": "inquD_5HRKtS",
        "outputId": "4034d5ba-37fc-42b4-8874-7174404eef54"
      },
      "source": [
        "!git clone https://github.com/khoauit99/open-NMT-test.git"
      ],
      "execution_count": null,
      "outputs": [
        {
          "output_type": "stream",
          "text": [
            "Cloning into 'open-NMT-test'...\n",
            "remote: Enumerating objects: 492, done.\u001b[K\n",
            "remote: Counting objects: 100% (75/75), done.\u001b[K\n",
            "remote: Compressing objects: 100% (55/55), done.\u001b[K\n",
            "remote: Total 492 (delta 33), reused 45 (delta 16), pack-reused 417\u001b[K\n",
            "Receiving objects: 100% (492/492), 320.56 MiB | 32.79 MiB/s, done.\n",
            "Resolving deltas: 100% (140/140), done.\n"
          ],
          "name": "stdout"
        }
      ]
    },
    {
      "cell_type": "code",
      "metadata": {
        "colab": {
          "base_uri": "https://localhost:8080/"
        },
        "id": "pbkqBJ6cVEAp",
        "outputId": "4760f5f0-2085-4bce-e5bb-b21cb0897eca"
      },
      "source": [
        "cd open-NMT-test"
      ],
      "execution_count": null,
      "outputs": [
        {
          "output_type": "stream",
          "text": [
            "/content/open-NMT-test\n"
          ],
          "name": "stdout"
        }
      ]
    },
    {
      "cell_type": "code",
      "metadata": {
        "id": "yTNdqp7Idamm"
      },
      "source": [
        "! pip install -e ."
      ],
      "execution_count": null,
      "outputs": []
    },
    {
      "cell_type": "code",
      "metadata": {
        "colab": {
          "base_uri": "https://localhost:8080/"
        },
        "id": "-QVXo7NRVJAh",
        "outputId": "4c3aa667-6da4-4186-dc3c-e2a8914130cd"
      },
      "source": [
        "! python build_vocab.py -config config/config_build_vocab.yaml"
      ],
      "execution_count": 53,
      "outputs": [
        {
          "output_type": "stream",
          "text": [
            "Corpus corpus_1's weight should be given. We default it to 1 for you.\n",
            "[2021-08-17 08:41:11,638 INFO] Counter vocab from 5000 samples.\n",
            "[2021-08-17 08:41:11,638 INFO] Build vocab on 5000 transformed examples/corpus.\n",
            "[2021-08-17 08:41:11,652 INFO] corpus_1's transforms: TransformPipe()\n",
            "[2021-08-17 08:41:11,653 INFO] Loading ParallelCorpus(/content/train_vi_tokenize.txt, /content/train_en.txt, align=None)...\n",
            "[2021-08-17 08:41:11,752 INFO] Counters src:311\n",
            "[2021-08-17 08:41:11,752 INFO] Counters tgt:283\n"
          ],
          "name": "stdout"
        }
      ]
    },
    {
      "cell_type": "code",
      "metadata": {
        "id": "T1M_vYtlXMbY"
      },
      "source": [
        "!pip install -U torchtext==0.9.0"
      ],
      "execution_count": null,
      "outputs": []
    },
    {
      "cell_type": "code",
      "metadata": {
        "colab": {
          "base_uri": "https://localhost:8080/"
        },
        "id": "i4Mhvdx9O-Qh",
        "outputId": "77a84158-41af-4605-d6a4-f10473db2a96"
      },
      "source": [
        "ls"
      ],
      "execution_count": null,
      "outputs": [
        {
          "output_type": "stream",
          "text": [
            " \u001b[0m\u001b[01;34mavailable_models\u001b[0m/       floyd_requirements.txt   setup.py\n",
            " build_vocab.py          floyd.yml                test_thu.py\n",
            "'các bước phải làm.md'   LICENSE.md               \u001b[01;34mtokenize\u001b[0m/\n",
            " CHANGELOG.md            \u001b[01;34mmodel\u001b[0m/                   \u001b[01;34mtools\u001b[0m/\n",
            " \u001b[01;34mconfig\u001b[0m/                 \u001b[01;34monmt\u001b[0m/                    \u001b[01;34mtoy-ende\u001b[0m/\n",
            " CONTRIBUTING.md         \u001b[01;34mOpenNMT_py.egg-info\u001b[0m/     train.py\n",
            " \u001b[01;34mdata\u001b[0m/                   README.md                translate.py\n",
            " \u001b[01;34mdocs\u001b[0m/                   requirements.opt.txt\n",
            " \u001b[01;34mexamples\u001b[0m/               server.py\n"
          ],
          "name": "stdout"
        }
      ]
    },
    {
      "cell_type": "code",
      "metadata": {
        "colab": {
          "base_uri": "https://localhost:8080/"
        },
        "id": "qAyKcJD9XhGG",
        "outputId": "0155b89c-1a02-4714-902e-6dc3a36ea656"
      },
      "source": [
        "pip install sentencepiece"
      ],
      "execution_count": null,
      "outputs": [
        {
          "output_type": "stream",
          "text": [
            "Collecting sentencepiece\n",
            "  Downloading sentencepiece-0.1.96-cp37-cp37m-manylinux_2_17_x86_64.manylinux2014_x86_64.whl (1.2 MB)\n",
            "\u001b[?25l\r\u001b[K     |▎                               | 10 kB 18.6 MB/s eta 0:00:01\r\u001b[K     |▌                               | 20 kB 24.2 MB/s eta 0:00:01\r\u001b[K     |▉                               | 30 kB 13.1 MB/s eta 0:00:01\r\u001b[K     |█                               | 40 kB 9.6 MB/s eta 0:00:01\r\u001b[K     |█▍                              | 51 kB 5.1 MB/s eta 0:00:01\r\u001b[K     |█▋                              | 61 kB 5.2 MB/s eta 0:00:01\r\u001b[K     |██                              | 71 kB 5.8 MB/s eta 0:00:01\r\u001b[K     |██▏                             | 81 kB 6.5 MB/s eta 0:00:01\r\u001b[K     |██▍                             | 92 kB 4.7 MB/s eta 0:00:01\r\u001b[K     |██▊                             | 102 kB 5.1 MB/s eta 0:00:01\r\u001b[K     |███                             | 112 kB 5.1 MB/s eta 0:00:01\r\u001b[K     |███▎                            | 122 kB 5.1 MB/s eta 0:00:01\r\u001b[K     |███▌                            | 133 kB 5.1 MB/s eta 0:00:01\r\u001b[K     |███▉                            | 143 kB 5.1 MB/s eta 0:00:01\r\u001b[K     |████                            | 153 kB 5.1 MB/s eta 0:00:01\r\u001b[K     |████▎                           | 163 kB 5.1 MB/s eta 0:00:01\r\u001b[K     |████▋                           | 174 kB 5.1 MB/s eta 0:00:01\r\u001b[K     |████▉                           | 184 kB 5.1 MB/s eta 0:00:01\r\u001b[K     |█████▏                          | 194 kB 5.1 MB/s eta 0:00:01\r\u001b[K     |█████▍                          | 204 kB 5.1 MB/s eta 0:00:01\r\u001b[K     |█████▊                          | 215 kB 5.1 MB/s eta 0:00:01\r\u001b[K     |██████                          | 225 kB 5.1 MB/s eta 0:00:01\r\u001b[K     |██████▏                         | 235 kB 5.1 MB/s eta 0:00:01\r\u001b[K     |██████▌                         | 245 kB 5.1 MB/s eta 0:00:01\r\u001b[K     |██████▊                         | 256 kB 5.1 MB/s eta 0:00:01\r\u001b[K     |███████                         | 266 kB 5.1 MB/s eta 0:00:01\r\u001b[K     |███████▎                        | 276 kB 5.1 MB/s eta 0:00:01\r\u001b[K     |███████▋                        | 286 kB 5.1 MB/s eta 0:00:01\r\u001b[K     |███████▉                        | 296 kB 5.1 MB/s eta 0:00:01\r\u001b[K     |████████                        | 307 kB 5.1 MB/s eta 0:00:01\r\u001b[K     |████████▍                       | 317 kB 5.1 MB/s eta 0:00:01\r\u001b[K     |████████▋                       | 327 kB 5.1 MB/s eta 0:00:01\r\u001b[K     |█████████                       | 337 kB 5.1 MB/s eta 0:00:01\r\u001b[K     |█████████▏                      | 348 kB 5.1 MB/s eta 0:00:01\r\u001b[K     |█████████▌                      | 358 kB 5.1 MB/s eta 0:00:01\r\u001b[K     |█████████▊                      | 368 kB 5.1 MB/s eta 0:00:01\r\u001b[K     |██████████                      | 378 kB 5.1 MB/s eta 0:00:01\r\u001b[K     |██████████▎                     | 389 kB 5.1 MB/s eta 0:00:01\r\u001b[K     |██████████▌                     | 399 kB 5.1 MB/s eta 0:00:01\r\u001b[K     |██████████▉                     | 409 kB 5.1 MB/s eta 0:00:01\r\u001b[K     |███████████                     | 419 kB 5.1 MB/s eta 0:00:01\r\u001b[K     |███████████▍                    | 430 kB 5.1 MB/s eta 0:00:01\r\u001b[K     |███████████▋                    | 440 kB 5.1 MB/s eta 0:00:01\r\u001b[K     |███████████▉                    | 450 kB 5.1 MB/s eta 0:00:01\r\u001b[K     |████████████▏                   | 460 kB 5.1 MB/s eta 0:00:01\r\u001b[K     |████████████▍                   | 471 kB 5.1 MB/s eta 0:00:01\r\u001b[K     |████████████▊                   | 481 kB 5.1 MB/s eta 0:00:01\r\u001b[K     |█████████████                   | 491 kB 5.1 MB/s eta 0:00:01\r\u001b[K     |█████████████▎                  | 501 kB 5.1 MB/s eta 0:00:01\r\u001b[K     |█████████████▌                  | 512 kB 5.1 MB/s eta 0:00:01\r\u001b[K     |█████████████▊                  | 522 kB 5.1 MB/s eta 0:00:01\r\u001b[K     |██████████████                  | 532 kB 5.1 MB/s eta 0:00:01\r\u001b[K     |██████████████▎                 | 542 kB 5.1 MB/s eta 0:00:01\r\u001b[K     |██████████████▋                 | 552 kB 5.1 MB/s eta 0:00:01\r\u001b[K     |██████████████▉                 | 563 kB 5.1 MB/s eta 0:00:01\r\u001b[K     |███████████████▏                | 573 kB 5.1 MB/s eta 0:00:01\r\u001b[K     |███████████████▍                | 583 kB 5.1 MB/s eta 0:00:01\r\u001b[K     |███████████████▋                | 593 kB 5.1 MB/s eta 0:00:01\r\u001b[K     |████████████████                | 604 kB 5.1 MB/s eta 0:00:01\r\u001b[K     |████████████████▏               | 614 kB 5.1 MB/s eta 0:00:01\r\u001b[K     |████████████████▌               | 624 kB 5.1 MB/s eta 0:00:01\r\u001b[K     |████████████████▊               | 634 kB 5.1 MB/s eta 0:00:01\r\u001b[K     |█████████████████               | 645 kB 5.1 MB/s eta 0:00:01\r\u001b[K     |█████████████████▎              | 655 kB 5.1 MB/s eta 0:00:01\r\u001b[K     |█████████████████▌              | 665 kB 5.1 MB/s eta 0:00:01\r\u001b[K     |█████████████████▉              | 675 kB 5.1 MB/s eta 0:00:01\r\u001b[K     |██████████████████              | 686 kB 5.1 MB/s eta 0:00:01\r\u001b[K     |██████████████████▍             | 696 kB 5.1 MB/s eta 0:00:01\r\u001b[K     |██████████████████▋             | 706 kB 5.1 MB/s eta 0:00:01\r\u001b[K     |███████████████████             | 716 kB 5.1 MB/s eta 0:00:01\r\u001b[K     |███████████████████▏            | 727 kB 5.1 MB/s eta 0:00:01\r\u001b[K     |███████████████████▍            | 737 kB 5.1 MB/s eta 0:00:01\r\u001b[K     |███████████████████▊            | 747 kB 5.1 MB/s eta 0:00:01\r\u001b[K     |████████████████████            | 757 kB 5.1 MB/s eta 0:00:01\r\u001b[K     |████████████████████▎           | 768 kB 5.1 MB/s eta 0:00:01\r\u001b[K     |████████████████████▌           | 778 kB 5.1 MB/s eta 0:00:01\r\u001b[K     |████████████████████▉           | 788 kB 5.1 MB/s eta 0:00:01\r\u001b[K     |█████████████████████           | 798 kB 5.1 MB/s eta 0:00:01\r\u001b[K     |█████████████████████▎          | 808 kB 5.1 MB/s eta 0:00:01\r\u001b[K     |█████████████████████▋          | 819 kB 5.1 MB/s eta 0:00:01\r\u001b[K     |█████████████████████▉          | 829 kB 5.1 MB/s eta 0:00:01\r\u001b[K     |██████████████████████▏         | 839 kB 5.1 MB/s eta 0:00:01\r\u001b[K     |██████████████████████▍         | 849 kB 5.1 MB/s eta 0:00:01\r\u001b[K     |██████████████████████▊         | 860 kB 5.1 MB/s eta 0:00:01\r\u001b[K     |███████████████████████         | 870 kB 5.1 MB/s eta 0:00:01\r\u001b[K     |███████████████████████▏        | 880 kB 5.1 MB/s eta 0:00:01\r\u001b[K     |███████████████████████▌        | 890 kB 5.1 MB/s eta 0:00:01\r\u001b[K     |███████████████████████▊        | 901 kB 5.1 MB/s eta 0:00:01\r\u001b[K     |████████████████████████        | 911 kB 5.1 MB/s eta 0:00:01\r\u001b[K     |████████████████████████▎       | 921 kB 5.1 MB/s eta 0:00:01\r\u001b[K     |████████████████████████▋       | 931 kB 5.1 MB/s eta 0:00:01\r\u001b[K     |████████████████████████▉       | 942 kB 5.1 MB/s eta 0:00:01\r\u001b[K     |█████████████████████████       | 952 kB 5.1 MB/s eta 0:00:01\r\u001b[K     |█████████████████████████▍      | 962 kB 5.1 MB/s eta 0:00:01\r\u001b[K     |█████████████████████████▋      | 972 kB 5.1 MB/s eta 0:00:01\r\u001b[K     |██████████████████████████      | 983 kB 5.1 MB/s eta 0:00:01\r\u001b[K     |██████████████████████████▏     | 993 kB 5.1 MB/s eta 0:00:01\r\u001b[K     |██████████████████████████▌     | 1.0 MB 5.1 MB/s eta 0:00:01\r\u001b[K     |██████████████████████████▊     | 1.0 MB 5.1 MB/s eta 0:00:01\r\u001b[K     |███████████████████████████     | 1.0 MB 5.1 MB/s eta 0:00:01\r\u001b[K     |███████████████████████████▎    | 1.0 MB 5.1 MB/s eta 0:00:01\r\u001b[K     |███████████████████████████▌    | 1.0 MB 5.1 MB/s eta 0:00:01\r\u001b[K     |███████████████████████████▉    | 1.1 MB 5.1 MB/s eta 0:00:01\r\u001b[K     |████████████████████████████    | 1.1 MB 5.1 MB/s eta 0:00:01\r\u001b[K     |████████████████████████████▍   | 1.1 MB 5.1 MB/s eta 0:00:01\r\u001b[K     |████████████████████████████▋   | 1.1 MB 5.1 MB/s eta 0:00:01\r\u001b[K     |████████████████████████████▉   | 1.1 MB 5.1 MB/s eta 0:00:01\r\u001b[K     |█████████████████████████████▏  | 1.1 MB 5.1 MB/s eta 0:00:01\r\u001b[K     |█████████████████████████████▍  | 1.1 MB 5.1 MB/s eta 0:00:01\r\u001b[K     |█████████████████████████████▊  | 1.1 MB 5.1 MB/s eta 0:00:01\r\u001b[K     |██████████████████████████████  | 1.1 MB 5.1 MB/s eta 0:00:01\r\u001b[K     |██████████████████████████████▎ | 1.1 MB 5.1 MB/s eta 0:00:01\r\u001b[K     |██████████████████████████████▌ | 1.2 MB 5.1 MB/s eta 0:00:01\r\u001b[K     |██████████████████████████████▊ | 1.2 MB 5.1 MB/s eta 0:00:01\r\u001b[K     |███████████████████████████████ | 1.2 MB 5.1 MB/s eta 0:00:01\r\u001b[K     |███████████████████████████████▎| 1.2 MB 5.1 MB/s eta 0:00:01\r\u001b[K     |███████████████████████████████▋| 1.2 MB 5.1 MB/s eta 0:00:01\r\u001b[K     |███████████████████████████████▉| 1.2 MB 5.1 MB/s eta 0:00:01\r\u001b[K     |████████████████████████████████| 1.2 MB 5.1 MB/s \n",
            "\u001b[?25hInstalling collected packages: sentencepiece\n",
            "Successfully installed sentencepiece-0.1.96\n"
          ],
          "name": "stdout"
        }
      ]
    },
    {
      "cell_type": "code",
      "metadata": {
        "id": "zt86sC1IFk2B"
      },
      "source": [
        "!sudo apt-get install cmake build-essential pkg-config libgoogle-perftools-dev"
      ],
      "execution_count": null,
      "outputs": []
    },
    {
      "cell_type": "code",
      "metadata": {
        "colab": {
          "base_uri": "https://localhost:8080/"
        },
        "id": "mzvYL1alEL9W",
        "outputId": "27d03fab-d82a-480e-b182-6ebf2f762cb2"
      },
      "source": [
        "!spm_train --input=train_vi.txt --model_prefix=vietnam --vocab_size=8000 --character_coverage=1.0 --model_type=word\n"
      ],
      "execution_count": null,
      "outputs": [
        {
          "output_type": "stream",
          "text": [
            "/bin/bash: spm_train: command not found\n"
          ],
          "name": "stdout"
        }
      ]
    },
    {
      "cell_type": "code",
      "metadata": {
        "colab": {
          "base_uri": "https://localhost:8080/"
        },
        "id": "PftOmggYEaX-",
        "outputId": "fabb5473-9207-4c01-9500-6835187b40ae"
      },
      "source": [
        "!python setup.py build"
      ],
      "execution_count": null,
      "outputs": [
        {
          "output_type": "stream",
          "text": [
            "python3: can't open file 'setup.py': [Errno 2] No such file or directory\n"
          ],
          "name": "stdout"
        }
      ]
    },
    {
      "cell_type": "code",
      "metadata": {
        "id": "Lrv84D9OG9Ip"
      },
      "source": [
        "import sentencepiece as spm\n",
        "spm.SentencePieceTrainer.train(input='train_vi_tokenize.txt', model_prefix='m', vocab_size=240,model_type='word')"
      ],
      "execution_count": null,
      "outputs": []
    },
    {
      "cell_type": "code",
      "metadata": {
        "colab": {
          "base_uri": "https://localhost:8080/"
        },
        "id": "ypZyQWlnGAOQ",
        "outputId": "0f63ff25-4209-43ad-ccf5-c2091a38e652"
      },
      "source": [
        "ls "
      ],
      "execution_count": null,
      "outputs": [
        {
          "output_type": "stream",
          "text": [
            "\u001b[0m\u001b[01;34mopen-NMT-test\u001b[0m/  \u001b[01;34msample_data\u001b[0m/  train_vi.txt\n"
          ],
          "name": "stdout"
        }
      ]
    },
    {
      "cell_type": "code",
      "metadata": {
        "id": "qXPNMwLyHPFJ"
      },
      "source": [
        ""
      ],
      "execution_count": null,
      "outputs": []
    }
  ]
}